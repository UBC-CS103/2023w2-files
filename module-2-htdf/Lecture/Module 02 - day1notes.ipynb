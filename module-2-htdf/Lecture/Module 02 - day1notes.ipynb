{
 "cells": [
  {
   "cell_type": "code",
   "execution_count": 1,
   "metadata": {},
   "outputs": [],
   "source": [
    "from cs103 import * # needed (once per notebook) to enable incredible cs103 powers!!"
   ]
  },
  {
   "cell_type": "markdown",
   "metadata": {},
   "source": [
    "***"
   ]
  },
  {
   "cell_type": "markdown",
   "metadata": {},
   "source": [
    "## Exam practice exercises - by module\n",
    "\n",
    "Highly recommended to self-assess and practice for exams: https://canvas.ubc.ca/courses/130118/pages/extra-exercises-written?module_item_id=6569359 "
   ]
  },
  {
   "cell_type": "markdown",
   "metadata": {},
   "source": [
    "# Module 2: Learning Goals\n",
    "\n",
    "At the end of this module, you will be able to:\n",
    "\n",
    "- use the How to Design Functions (HtDF) recipe to design functions that operate on primitive data.\n",
    "- read a complete function design and identify its different elements.\n",
    "- evaluate the elements of a function design for clarity, simplicity and consistency with each other.\n",
    "- evaluate an entire design for how well it solves the given problem.\n",
    "- explain the intended purpose of the HtDF recipe's steps in a way that generalizes to other design problems."
   ]
  },
  {
   "cell_type": "code",
   "execution_count": 27,
   "metadata": {},
   "outputs": [
    {
     "name": "stdout",
     "output_type": "stream",
     "text": [
      "\u001b[92m3 of 3 tests passed\u001b[0m\n"
     ]
    }
   ],
   "source": [
    "@typecheck   # This is called a decorator. It gives an error if the function is called with or returns the wrong type.\n",
    "def double(n: float) -> float:\n",
    "    # Use \"\"\" for the purpose. This way it will be visible when using the help() function\n",
    "    \"\"\"\n",
    "    returns n doubles\n",
    "    \"\"\"\n",
    "    # return n    # stub\n",
    "    # return ...(n)    # for now, leave the template commented out. \n",
    "    return 2 * n\n",
    "\n",
    "\n",
    "start_testing()\n",
    "expect(double(0), 2 * 0)\n",
    "expect(double(-4.2), -4.2 * 2)\n",
    "expect(double(10.5), 2 * 10.5)\n",
    "summary()"
   ]
  },
  {
   "cell_type": "markdown",
   "metadata": {},
   "source": [
    "# is_palindrome Quiz Problem\n",
    "\n",
    "**Problem:** Design a function that takes a string and determines whether it is palindrome or not (a palindrome is a word or phrase that reads the same backwards and forwards - e.g., level)."
   ]
  },
  {
   "cell_type": "code",
   "execution_count": null,
   "metadata": {},
   "outputs": [],
   "source": [
    "# Design is_palindrome here.\n",
    "# We already included the signature, TWO possible purposes, and a stub.\n",
    "# We still need: tests/examples, template comment, and body.\n",
    "# Hint: search what [::-1] do to a string\n",
    "\n",
    "@typecheck\n",
    "def is_palindrome(word: str) -> bool:\n",
    "    # Should the purpose be:\n",
    "    \"\"\"\n",
    "    return True if the word is a palindrome, and False otherwise\n",
    "    \"\"\"\n",
    "    # Or:\n",
    "    \"\"\"\n",
    "    return True if the word meets our requiements\n",
    "    \"\"\"\n",
    "    return True  #stub\n",
    "    \n",
    "# Starting point for any set of tests/examples:\n",
    "start_testing()\n",
    "expect(..., ...)\n",
    "summary()"
   ]
  },
  {
   "cell_type": "markdown",
   "metadata": {},
   "source": [
    "Now that `is_palindrome` has been designed and tested, we can use it!"
   ]
  },
  {
   "cell_type": "code",
   "execution_count": null,
   "metadata": {},
   "outputs": [],
   "source": [
    "# Write a call to is_palindrome here"
   ]
  },
  {
   "cell_type": "markdown",
   "metadata": {},
   "source": [
    "*******"
   ]
  },
  {
   "cell_type": "markdown",
   "metadata": {},
   "source": [
    "# Multiply a number by 4\n",
    "\n",
    "**Problem**: Design a function that multiplies a number by 4."
   ]
  },
  {
   "cell_type": "code",
   "execution_count": null,
   "metadata": {},
   "outputs": [],
   "source": [
    "# Define your function to multiply a number by 4 here\n"
   ]
  },
  {
   "cell_type": "markdown",
   "metadata": {},
   "source": [
    "___"
   ]
  },
  {
   "cell_type": "markdown",
   "metadata": {},
   "source": [
    "# Discount\n",
    "\n",
    "**Problem:** A store gives 5% off the most expensive product and 10% off the second most expensive product. Design a program that calculates the final purchase price of two products."
   ]
  },
  {
   "cell_type": "code",
   "execution_count": null,
   "metadata": {},
   "outputs": [],
   "source": [
    "@typecheck\n",
    "def discount(price1: float, price2: float) -> float:\n",
    "    \"\"\"\n",
    "    Give a discount of 10% on the smallest value and 5% on the biggest value.\n",
    "    Return the total price of the two itens with the discount.\n",
    "    \"\"\"\n",
    "    #return 100.0  #stub\n",
    "    #return ...(price1, price2)  #template\n",
    "    \n",
    "    if price1 > price2:\n",
    "        return price1*(0.95) + price2*(0.9)\n",
    "    else:\n",
    "        return price1*(0.9) + price2*(0.95)\n",
    "\n",
    "start_testing()\n",
    "expect(discount(100, 100), 185)\n",
    "expect(discount(80, 100), 167)\n",
    "expect(discount(82.8, 42.6), 117)\n",
    "summary()"
   ]
  },
  {
   "cell_type": "code",
   "execution_count": null,
   "metadata": {},
   "outputs": [],
   "source": [
    "p1 = 50\n",
    "p2 = 75\n",
    "\n",
    "discount(p1, p2)"
   ]
  },
  {
   "cell_type": "code",
   "execution_count": null,
   "metadata": {},
   "outputs": [],
   "source": [
    "p1 = 20\n",
    "p2 = 10\n",
    "\n",
    "discount(p2, p1)"
   ]
  },
  {
   "cell_type": "markdown",
   "metadata": {},
   "source": [
    "It would be very beneficial to trace this exercise. If you have difficulties tracing by hand, start by looking at how Python Tutor does it: https://pythontutor.com/visualize.html#mode=edit\n",
    "\n",
    "(Eventually you want to be able to do it on your own)\n",
    "\n",
    "**Warning:** Python Tutor does not know the CS103 library, so it can not use @typecheck, start_testing, summary, and expect."
   ]
  },
  {
   "cell_type": "markdown",
   "metadata": {},
   "source": [
    "___"
   ]
  },
  {
   "cell_type": "markdown",
   "metadata": {},
   "source": [
    "# CPSC 103 d-tective 😜\n",
    "\n",
    "**Problem:** Design a function that determines if a string starts with\n",
    "the letter *d*."
   ]
  },
  {
   "cell_type": "code",
   "execution_count": null,
   "metadata": {},
   "outputs": [],
   "source": []
  }
 ],
 "metadata": {
  "kernelspec": {
   "display_name": "Python 3 (ipykernel)",
   "language": "python",
   "name": "python3"
  },
  "language_info": {
   "codemirror_mode": {
    "name": "ipython",
    "version": 3
   },
   "file_extension": ".py",
   "mimetype": "text/x-python",
   "name": "python",
   "nbconvert_exporter": "python",
   "pygments_lexer": "ipython3",
   "version": "3.11.6"
  }
 },
 "nbformat": 4,
 "nbformat_minor": 4
}
