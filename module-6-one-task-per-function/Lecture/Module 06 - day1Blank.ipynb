{
 "cells": [
  {
   "cell_type": "code",
   "execution_count": 10,
   "metadata": {},
   "outputs": [],
   "source": [
    "from cs103 import *"
   ]
  },
  {
   "cell_type": "markdown",
   "metadata": {},
   "source": [
    "# Module 6 - One task per function\n",
    "\n",
    "### Learning goals\n",
    "- Design functions that each focus on one task (i.e. that follow the \"one task per function\" rule). \n",
    "- Understand the helper rules.\n",
    "- Review the reference rule and practice composition. "
   ]
  },
  {
   "cell_type": "markdown",
   "metadata": {},
   "source": [
    "# Oldest University\n",
    "\n",
    "**Problem:** Given a list of Universities across the world, find the oldest one in a chosen country.\n",
    "\n",
    "Assume that the list is not empty and there is at least one university in the chosen country."
   ]
  },
  {
   "cell_type": "code",
   "execution_count": 11,
   "metadata": {},
   "outputs": [],
   "source": [
    "from typing import NamedTuple\n",
    "\n",
    "University = NamedTuple('University', [('name', str),\n",
    "                               ('country', str),         \n",
    "                               ('year_founded', int),        # in range[0,...)\n",
    "                               ('students', int),            # in range[0,...)\n",
    "                               ('local_tuition', int),       # in range[0,...]\n",
    "                               ('non_local_tuition', int),  # in range[0,...]\n",
    "                               ('public', bool)])\n",
    "# interp. a university with its name, country, year founded, \n",
    "# number of students, price of local tuition, price of non-local tuition,\n",
    "# and if it is public or not\n",
    "\n",
    "U1 = University('UBC',\n",
    "            'Canada',\n",
    "            1908,\n",
    "            66266,\n",
    "            400,\n",
    "            5050,\n",
    "            True)\n",
    "U2 = University('UNICAMP',\n",
    "            'Brazil',\n",
    "            1962,\n",
    "            34616,\n",
    "            0,\n",
    "            0,\n",
    "            True)\n",
    "U3 = University('PUCSP',\n",
    "            'Brazil',\n",
    "            1908,\n",
    "            34616,\n",
    "            2000,\n",
    "            2000,\n",
    "            False)\n",
    "U4 = University('Yale',\n",
    "            'USA',\n",
    "            1718,\n",
    "            13609,\n",
    "            10000,\n",
    "            20000,\n",
    "            False)\n",
    "\n",
    "# template based on Compound\n",
    "@typecheck\n",
    "def fn_for_univesity(u: University) -> ...: \n",
    "    return ...(u.name,\n",
    "               u.country,\n",
    "               u.year_founded,\n",
    "               u.students,\n",
    "               u.local_tuition,\n",
    "               u.non_local_tuition,\n",
    "               u.public)"
   ]
  },
  {
   "cell_type": "code",
   "execution_count": 12,
   "metadata": {},
   "outputs": [],
   "source": [
    "from typing import List\n",
    "\n",
    "# List[University]\n",
    "# interp. a list of Universities\n",
    "LOU0 = []\n",
    "LOU1 = [U1]\n",
    "LOU2 = [U1, U2]\n",
    "LOU3 = [U1, U2, U3, U4]\n",
    "\n",
    "@typecheck\n",
    "# template based on arbitrary-sized and reference rule\n",
    "def fn_for_lou(lou: List[University]) -> ...:\n",
    "    # description of the accumulator\n",
    "    acc = ...   # type: ...\n",
    "\n",
    "    for u in lou:\n",
    "        acc = ...(fn_for_univesity(u), acc)\n",
    "\n",
    "    return ...(acc)"
   ]
  },
  {
   "cell_type": "code",
   "execution_count": null,
   "metadata": {},
   "outputs": [],
   "source": []
  },
  {
   "cell_type": "markdown",
   "metadata": {},
   "source": [
    "## Paired exercise\n",
    "\n",
    "1. Create a folder for your group here: https://drive.google.com/drive/folders/1046kO0BHhj-bG7o4xdn7jBRb8GcObwNQ?usp=sharing\n",
    "2. Use the folder to share your code (txt recommended)\n",
    "3. Copy-paste your partner code in your Jupyter notebook and see if it works!"
   ]
  },
  {
   "cell_type": "markdown",
   "metadata": {},
   "source": [
    "___"
   ]
  }
 ],
 "metadata": {
  "kernelspec": {
   "display_name": "Python 3 (ipykernel)",
   "language": "python",
   "name": "python3"
  },
  "language_info": {
   "codemirror_mode": {
    "name": "ipython",
    "version": 3
   },
   "file_extension": ".py",
   "mimetype": "text/x-python",
   "name": "python",
   "nbconvert_exporter": "python",
   "pygments_lexer": "ipython3",
   "version": "3.11.6"
  }
 },
 "nbformat": 4,
 "nbformat_minor": 4
}
