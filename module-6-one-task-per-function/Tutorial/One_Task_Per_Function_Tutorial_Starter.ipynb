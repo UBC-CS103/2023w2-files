{
 "cells": [
  {
   "cell_type": "code",
   "execution_count": null,
   "metadata": {},
   "outputs": [],
   "source": [
    "from cs103 import *"
   ]
  },
  {
   "cell_type": "markdown",
   "metadata": {},
   "source": [
    "## Pre-Tutorial Work:\n",
    "\n",
    "Answer the \"**thought question for pre-tutorial work**\" below."
   ]
  },
  {
   "cell_type": "markdown",
   "metadata": {},
   "source": [
    "## Setup\n",
    "\n",
    "We are going to continue to use the `CanadaFlight` and `List[CanadaFlight]` types (given below) in this problem set.\n",
    "\n",
    "| Flight number | Airline | Carrier | Departs from | Arrives in | Duration (in minutes) | \n",
    "|-----------|---|---|---|---|---|\n",
    "|4N582 | Air North |Boeing 737-500 | Vancouver | Whitehorse\t| 145|\n",
    "|4N809 | Air North |Boeing 737-500 | Whitehorse | Vancouver | 135|\n",
    "|F8661  | Flair Airlines | Boeing 737 MAX 8 | Vancouver  | Toronto | 310|\n",
    "|F8600  | Flair Airlines | Boeing 737 MAX 8 | Toronto | Vancouver | 275|\n",
    "|PD2461 | Porter Airlines | DHC-8-400 Dash 8Q | Toronto | Montreal | 75|\n"
   ]
  },
  {
   "cell_type": "code",
   "execution_count": null,
   "metadata": {},
   "outputs": [],
   "source": [
    "from typing import NamedTuple, List\n",
    "\n",
    "CanadaFlight = NamedTuple('CanadaFlight', [('number', str),\n",
    "                                           ('airline', str),\n",
    "                                           ('carrier', str),\n",
    "                                           ('depart', str),\n",
    "                                           ('arrive', str),\n",
    "                                           ('duration', int)])    # in range[0, ...)\n",
    "# interp. A Canadian domestic flight. includes the flight number,\n",
    "# airline, carrier type, departure city ('depart'), destination ('arrive'), \n",
    "# and flight duration ('duration') in minutes\n",
    "\n",
    "VAN_WHI = CanadaFlight(\"4N582\", \n",
    "                       \"Air North\", \n",
    "                       \"Boeing 737-500\", \n",
    "                       \"Vancouver\", \n",
    "                       \"Whitehorse\", \n",
    "                       145)\n",
    "\n",
    "WHI_VAN = CanadaFlight(\"4N809\", \n",
    "                       \"Air North\", \n",
    "                       \"Boeing 737-500\",  \n",
    "                       \"Whitehorse\", \n",
    "                       \"Vancouver\",\n",
    "                       135)\n",
    "\n",
    "VAN_TOR = CanadaFlight(\"F8661\", \n",
    "                       \"Flair Airlines\", \n",
    "                       \"Boeing 737 MAX 8\", \n",
    "                       \"Vancouver\", \n",
    "                       \"Toronto\", \n",
    "                       310)\n",
    "\n",
    "TOR_VAN = CanadaFlight(\"F8600\", \n",
    "                       \"Flair Airlines\", \n",
    "                       \"Boeing 737 MAX 8\", \n",
    "                       \"Toronto\", \n",
    "                       \"Vancouver\", \n",
    "                       275)\n",
    "\n",
    "TOR_MON = CanadaFlight(\"PD2461\", \n",
    "                       \"Porter Airlines\", \n",
    "                       \"DHC-8-400 Dash 8Q\", \n",
    "                       \"Toronto\", \n",
    "                       \"Montreal\", \n",
    "                       75)\n",
    "\n",
    "\n",
    "# template based on compound (6 fields)\n",
    "@typecheck\n",
    "def fn_for_canada_flight(cf: CanadaFlight) -> ...:\n",
    "    return ...(cf.number,\n",
    "               cf.airline,\n",
    "               cf.carrier,\n",
    "               cf.depart,\n",
    "               cf.arrive,\n",
    "               cf.duration)\n",
    "\n",
    "\n",
    "# List[CanadaFlight]\n",
    "# interp. a list of Canadian domestic flights\n",
    "\n",
    "L0 = []\n",
    "L1 = [VAN_WHI, WHI_VAN, VAN_TOR, TOR_VAN, TOR_MON]\n",
    "\n",
    "# template based on arbitrary-sized and the reference rule\n",
    "@typecheck\n",
    "def fn_for_locf(logg: List[CanadaFlight]) -> ...:\n",
    "    # description of the acc\n",
    "    acc = ... # type: ...\n",
    "    for cf in locf:\n",
    "        acc = ...(acc, fn_for_canada_flight(cf))\n",
    "    return ...(acc)"
   ]
  },
  {
   "cell_type": "markdown",
   "metadata": {},
   "source": [
    "## Problem 1\n",
    "\n",
    "Design a function that takes a city, a maximum flight duration, and a list of canadian flights and returns **all the flights** in the list that either depart or land in that city and have a flight duration below or equal to the maximum flight duration.\n",
    "\n",
    "In particular, the **function MUST clearly implement these four steps**:\n",
    "1. First, it will find all the flights that depart from the given city,\n",
    "2. Then it will find all the flights that arrive in the given city,\n",
    "3. Then it will add together these two lists to create one list with all flights to or from the required city.\n",
    "4. Then it will find which of these flights has duration less or equal to maximum flight duration.\n",
    "\n",
    "**Hints:** \n",
    "- Step 3 should be performed using a simple List concatenation (no function required).\n",
    "- Additional examples of CanadaFlight or Lists may be created to test the functions in this exercise (flight data can be invented and does not need to come from actual flights).\n",
    "\n",
    "Remember to follow the HtDF recipe and the helper rules.\n",
    "\n",
    "**Thought question for pre-tutorial work:** Which helper rule applies because of the requirement to operate in three steps?"
   ]
  },
  {
   "cell_type": "code",
   "execution_count": null,
   "metadata": {},
   "outputs": [],
   "source": [
    "# your solution goes here\n"
   ]
  },
  {
   "cell_type": "markdown",
   "metadata": {},
   "source": [
    "## Submit your solution"
   ]
  },
  {
   "cell_type": "code",
   "execution_count": null,
   "metadata": {
    "deletable": false,
    "editable": false,
    "tags": []
   },
   "outputs": [],
   "source": [
    "# NOTE: You should not be able to edit this cell. Just run it to start the process of submiting your code.\n",
    "from cs103 import submit\n",
    "\n",
    "COURSE = 130118\n",
    "ASSIGNMENT = 1740548\n",
    "\n",
    "submit(COURSE, ASSIGNMENT)\n",
    "\n",
    "# If your submission fails, SUBMIT ANYWAY by downloading your files and uploading \n",
    "# them to Canvas. You can learn how on the page \"How to submit your Jupyter notebook\" \n",
    "# on our Canvas site."
   ]
  }
 ],
 "metadata": {
  "kernelspec": {
   "display_name": "Python 3 (ipykernel)",
   "language": "python",
   "name": "python3"
  },
  "language_info": {
   "codemirror_mode": {
    "name": "ipython",
    "version": 3
   },
   "file_extension": ".py",
   "mimetype": "text/x-python",
   "name": "python",
   "nbconvert_exporter": "python",
   "pygments_lexer": "ipython3",
   "version": "3.8.17"
  }
 },
 "nbformat": 4,
 "nbformat_minor": 4
}
