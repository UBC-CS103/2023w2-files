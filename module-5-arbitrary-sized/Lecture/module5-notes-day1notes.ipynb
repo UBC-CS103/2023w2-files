{
 "cells": [
  {
   "cell_type": "code",
   "execution_count": 2,
   "metadata": {},
   "outputs": [],
   "source": [
    "from cs103 import *"
   ]
  },
  {
   "cell_type": "markdown",
   "metadata": {},
   "source": [
    "## Reminder - Project\n",
    "\n",
    "Project proposals are due Friday. Things to watch out for:\n",
    "- do not use a forbidden data set\n",
    "- if you took the course before, you can not reuse the same project\n",
    "- if you want to use your own source, it should have at least 3 columns and 100 rows, and generally be \"good enough\" to work with it; ask us if you are unsure\n",
    "- Some people still don't have a group! You need to register as a group, even if you are working alone\n",
    "\n",
    "## Other announcements\n",
    "- New after class office hours: https://canvas.ubc.ca/courses/130118/pages/schedule-tutorials-and-office-hours?module_item_id=6407799\n",
    "- Classes will be online on February 27 and 29. [How do you want to do office hours?](https://piazza.com/class/lr2z324rtjz3ey/post/366)"
   ]
  },
  {
   "cell_type": "markdown",
   "metadata": {},
   "source": [
    "# Module 5 - Arbitrary sized data (lists)\n",
    "\n",
    "Learning goals:\n",
    "- Understand and use Python’s List type. \n",
    "- Identify problem domain information of arbitrary size that should be represented as arbitrary-sized data. \n",
    "- Use the HtDD and Data Driven Templates recipes with arbitrary-sized data. \n",
    "- Design functions that take in and/or return lists. \n",
    "\n",
    "Lists are for information that is well represented as a group of elements of the same type:\n",
    "- a list of names: [\"Giulia\", \"Karina\", \"Jessica\"]\n",
    "- a list of integers: [1, 3, -55, 100]\n",
    "- a list of compound data\n",
    "\n",
    "**Arbitrary sized != large**\n",
    "\n",
    "Let's pick the best data type:\n",
    "- A data type for a house (including type, square meters, year built, etc.)\n",
    "- The inventory of a realtor\n",
    "- A type of window (single pane, double pane, frosted)\n",
    "- An address (street, number, zip code, city)\n",
    "- The units in a building\n",
    "\n",
    "https://www.menti.com/albt7acvgqd9"
   ]
  },
  {
   "cell_type": "markdown",
   "metadata": {},
   "source": [
    "## `List[str]` Data Definition"
   ]
  },
  {
   "cell_type": "code",
   "execution_count": 3,
   "metadata": {},
   "outputs": [],
   "source": [
    "from typing import List\n",
    "\n",
    "# List[str]\n",
    "# interp. a list of strings\n",
    "LOS0 = []\n",
    "LOS2 = [\"hello\", \"goodbye\", \"Beatles\"]\n",
    "\n",
    "@typecheck\n",
    "# template based on arbitrary-sized\n",
    "def fn_for_los(los: List[str]) -> ...:\n",
    "    # description of the accumulator\n",
    "    acc = ...   # type: ...             # Note that the accumulator is just a variable; we give it a specific name to\n",
    "                                        # identify its role in the function\n",
    "\n",
    "    for s in los:\n",
    "        acc = ...(s, acc)\n",
    "\n",
    "    return ...(acc)"
   ]
  },
  {
   "cell_type": "markdown",
   "metadata": {},
   "source": [
    "## Designing a Function with Accumulators\n",
    "\n",
    "A for loop enables a particular set of commands to be executed repeatedly **for all elements in a list.**\n",
    "\n",
    "Note that essentially *all* of your accumulators' descriptions will have the words \"in the list so far\" in them. That's what accumulators do: keep track of information about what we've seen in the list so far!)\n",
    "\n",
    "Complete the function below so that it counts how many times the string \"UBC\" occurs in a list of strings."
   ]
  },
  {
   "cell_type": "code",
   "execution_count": 4,
   "metadata": {},
   "outputs": [
    {
     "name": "stdout",
     "output_type": "stream",
     "text": [
      "\u001b[92m7 of 7 tests passed\u001b[0m\n"
     ]
    }
   ],
   "source": [
    "@typecheck\n",
    "def count_UBCs(unis: List[str]) -> int:\n",
    "    \"\"\"\n",
    "    return the number of times that \"UBC\" appears in unis.\n",
    "    \"\"\"\n",
    "    # return 0 #stub\n",
    "    # Template from List[str]\n",
    "    # number of times \"UBC\" appeared in the list so far\n",
    "    acc = 0   # type: int\n",
    "\n",
    "    for u in unis:\n",
    "        if u == \"UBC\":\n",
    "            acc = acc + 1\n",
    "        # No else: we don't need to do anything when u is not \"UBC\"\n",
    "\n",
    "    return acc \n",
    "\n",
    "start_testing()\n",
    "\n",
    "expect(count_UBCs([]), 0)\n",
    "expect(count_UBCs([\"UW\"]), 0)\n",
    "expect(count_UBCs([\"UBC\"]), 1)\n",
    "expect(count_UBCs([\"McGill\", \"SFU\", \"UBC\", \"MIT\", \"Harvard\"]), 1)\n",
    "expect(count_UBCs([\"McGill\", \"SFU\", \"MIT\", \"Harvard\"]), 0)\n",
    "expect(count_UBCs([\"McGill\", \"SFU\", \"UBC\", \"MIT\", \"UBC\", \"Harvard\"]), 2)\n",
    "expect(count_UBCs([\"UBC\", \"McGill\", \"SFU\", \"MIT\", \"Harvard\", \"UBC\"]), 2)  # Testing the beginning and end of a list is a good idea\n",
    "\n",
    "summary()"
   ]
  },
  {
   "cell_type": "markdown",
   "metadata": {},
   "source": [
    "## How does `return` work in a for loop?\n",
    "\n",
    "Actually `return` works the same regardless of where you use it. It looks like this: `return CODE`, where `CODE` is any expression we want to write. It evaluates `CODE`, stops the currently running function (no matter what was going on), and returns from the function with the value it got from `CODE`.\n",
    "\n",
    "(Note that we can only use `return` inside a function!)\n",
    "\n",
    "So, in a loop, it ends the loop right away! \n",
    "\n",
    "Sometimes, this is a desirable behavior. For example, let's design a function to determine if the list contains \"UBC\"."
   ]
  },
  {
   "cell_type": "code",
   "execution_count": 5,
   "metadata": {},
   "outputs": [
    {
     "name": "stdout",
     "output_type": "stream",
     "text": [
      "\u001b[92m7 of 7 tests passed\u001b[0m\n"
     ]
    }
   ],
   "source": [
    "from cs103 import *\n",
    "\n",
    "@typecheck\n",
    "def contains_ubc(unis: List[str]) -> bool:\n",
    "    \"\"\"\n",
    "    return True if unis includes \"UBC\" else return False\n",
    "    \"\"\"\n",
    "    # return True #stub\n",
    "    # Template from List[str]\n",
    "    for u in unis:\n",
    "        if u == \"UBC\":\n",
    "            return True\n",
    "        \n",
    "    return False\n",
    "\n",
    "start_testing()\n",
    "\n",
    "# expect(contains_ubc([]), False)\n",
    "expect(contains_ubc([\"UW\"]), False)\n",
    "expect(contains_ubc([\"UBC\"]), True)\n",
    "expect(contains_ubc([\"McGill\", \"SFU\", \"UBC\", \"MIT\", \"Harvard\"]), True)\n",
    "expect(contains_ubc([\"McGill\", \"SFU\", \"MIT\", \"Harvard\"]), False)\n",
    "expect(contains_ubc([\"McGill\", \"SFU\", \"UBC\", \"MIT\", \"UBC\", \"Harvard\"]), True)\n",
    "expect(contains_ubc([\"UBC\", \"McGill\", \"SFU\", \"MIT\", \"Harvard\"]), True)\n",
    "expect(contains_ubc([\"McGill\", \"SFU\", \"MIT\", \"Harvard\", \"UBC\"]), True)\n",
    "\n",
    "summary()"
   ]
  },
  {
   "cell_type": "markdown",
   "metadata": {},
   "source": [
    "P.S. Here's a fun exercise: Redesign the function body of `contains_UBC` to call `count_UBCs`. \n",
    "Is `count_UBCs` helpful to implement `contains_UBC`? "
   ]
  },
  {
   "cell_type": "code",
   "execution_count": 6,
   "metadata": {},
   "outputs": [
    {
     "name": "stdout",
     "output_type": "stream",
     "text": [
      "\u001b[92m7 of 7 tests passed\u001b[0m\n"
     ]
    }
   ],
   "source": [
    "from cs103 import *\n",
    "\n",
    "@typecheck\n",
    "def contains_ubc2(unis: List[str]) -> bool:\n",
    "    \"\"\"\n",
    "    return True if unis includes \"UBC\" else return False\n",
    "    \"\"\"\n",
    "    # return True #stub\n",
    "    if count_UBCs(unis) > 0:\n",
    "        return True\n",
    "    \n",
    "    return False\n",
    "\n",
    "\n",
    "start_testing()\n",
    "\n",
    "expect(contains_ubc2([]), False)\n",
    "expect(contains_ubc2([\"UW\"]), False)\n",
    "expect(contains_ubc2([\"UBC\"]), True)\n",
    "expect(contains_ubc2([\"McGill\", \"SFU\", \"UBC\", \"MIT\", \"Harvard\"]), True)\n",
    "expect(contains_ubc2([\"McGill\", \"SFU\", \"MIT\", \"Harvard\"]), False)\n",
    "expect(contains_ubc2([\"UBC\", \"McGill\", \"SFU\", \"MIT\", \"Harvard\"]), True)\n",
    "expect(contains_ubc2([\"McGill\", \"SFU\", \"MIT\", \"Harvard\", \"UBC\"]), True)\n",
    "\n",
    "summary()\n",
    "\n",
    "# This function works but it is a bit worse than the previous one, because it will always check the entire \n",
    "# list, even if \"UBC\" is found at the very first element. This is clearly a waste of time for this kind\n",
    "# of problem, where the goal is just to find something, not count it.\n",
    "\n",
    "# If this is not clear, try tracing the two functions when called with the list\n",
    "# [\"UBC\", \"McGill\", \"SFU\", \"MIT\", \"Harvard\"]"
   ]
  },
  {
   "cell_type": "code",
   "execution_count": 7,
   "metadata": {},
   "outputs": [
    {
     "name": "stdout",
     "output_type": "stream",
     "text": [
      "\u001b[91mTest failed:\u001b[0m expected True but got False\n",
      "    \u001b[1mLine 22: \u001b[0mexpect(contains_ubc_wrong([\"McGill\", \"SFU\", \"UBC\", \"MIT\", \"Harvard\"]), True)\n",
      "\u001b[91mTest failed:\u001b[0m expected True but got False\n",
      "    \u001b[1mLine 25: \u001b[0mexpect(contains_ubc_wrong([\"McGill\", \"SFU\", \"MIT\", \"Harvard\", \"UBC\"]), True)\n",
      "\u001b[91m4 of 6 tests passed\u001b[0m\n"
     ]
    }
   ],
   "source": [
    "# WRONG SOLUTION \n",
    "# Here is an example of a bad solution for this exercise\n",
    "\n",
    "@typecheck\n",
    "def contains_ubc_wrong(unis: List[str]) -> bool:\n",
    "    \"\"\"\n",
    "    return True if unis includes \"UBC\" else return False\n",
    "    \"\"\"\n",
    "    # return True #stub\n",
    "    # Template from List[str]\n",
    "    for u in unis:\n",
    "        if u == \"UBC\":\n",
    "            return True\n",
    "        else:\n",
    "            return False\n",
    "\n",
    "start_testing()\n",
    "\n",
    "# expect(contains_ubc_wrong([]), False)\n",
    "expect(contains_ubc_wrong([\"UW\"]), False)\n",
    "expect(contains_ubc_wrong([\"UBC\"]), True)\n",
    "expect(contains_ubc_wrong([\"McGill\", \"SFU\", \"UBC\", \"MIT\", \"Harvard\"]), True)\n",
    "expect(contains_ubc_wrong([\"McGill\", \"SFU\", \"MIT\", \"Harvard\"]), False)\n",
    "expect(contains_ubc_wrong([\"UBC\", \"McGill\", \"SFU\", \"MIT\", \"Harvard\"]), True)\n",
    "expect(contains_ubc_wrong([\"McGill\", \"SFU\", \"MIT\", \"Harvard\", \"UBC\"]), True)\n",
    "\n",
    "summary()\n",
    "\n",
    "# As you can see, this function fails many test cases, because all it does is checking the first\n",
    "# element of the list and base its answer on that value. The function quits after just 1 iteration.\n",
    "# Additionally, I had to comment out the example with the empty list because that example now\n",
    "# causes an error. Try uncommenting and see if you can explain why we are getting this error."
   ]
  },
  {
   "cell_type": "markdown",
   "metadata": {},
   "source": [
    "## Designing a data definition for a list of integers\n",
    "\n",
    "**Problem:** design a data definition for a list of integers.\n",
    "\n",
    "Once we've learned how to design other data definitions and realize that a data definition for a particular problem needs to be a list, these tend to be fairly straightforward to complete. Let's practice one quickly this week.\n",
    "\n",
    "Next week, we'll see how things change (for lists, optionals, and compounds!) when a data definition we create refers to another data definition we created!"
   ]
  },
  {
   "cell_type": "code",
   "execution_count": null,
   "metadata": {},
   "outputs": [],
   "source": [
    "# TODO: design a data definition for a list of integers"
   ]
  },
  {
   "cell_type": "markdown",
   "metadata": {},
   "source": [
    "Now, let's work on Problem 1-4 from Module 5 Worksheet.\n",
    "\n",
    "Python Tutor can be very useful for tracing loops: https://pythontutor.com/visualize.html#mode=display"
   ]
  },
  {
   "cell_type": "markdown",
   "metadata": {},
   "source": [
    "## Fun with a Large-ish Information Set\n",
    "\n",
    "The data below represents the length of episodes from a TV show in minutes. We have examples for only one episode of a show (Friends), a full season of a show (Game of Thrones), and a whole show (The Good Place)."
   ]
  },
  {
   "cell_type": "code",
   "execution_count": null,
   "metadata": {},
   "outputs": [],
   "source": [
    "from cs103 import *\n",
    "from typing import List\n",
    "\n",
    "EpisodeDurations = List[float] # in range [0, ...]\n",
    "# interp. the duration of episodes in minutes for some number of episodes of a TV Show\n",
    "\n",
    "ED0 = []\n",
    "ED_FRIENDS_S01E01 = [22.8]\n",
    "ED_GAME_OF_THRONES_S01 = [61.62, 55.28, 57.23, 55.62, 54.27, 52.6, 57.79, 58.13, 56.27, 52.62]\n",
    "ED_GOOD_PLACE = [\n",
    "    26.27, 21.50, 24.90, 22.55, 26.30, 26.35, 24.23, 25.23, 24.88, 23.78, \n",
    "    26.62, 21.53, 26.88, 42.68, 21.60, 23.92, 25.37, 24.65, 23.28, 23.72, \n",
    "    21.60, 24.78, 22.77, 23.47, 24.33, 21.60, 21.55, 21.60, 21.60, 21.60, \n",
    "    21.53, 21.55, 21.53, 21.53, 22.53, 21.53, 21.53, 21.53, 22.42, 21.40, \n",
    "    21.42, 21.43, 21.43, 21.42, 21.42, 21.40, 21.42, 21.42, 21.45, 21.43, \n",
    "    52.48\n",
    "]\n",
    "\n",
    "# template based on arbitrary-sized\n",
    "@typecheck\n",
    "def fn_for_ed(ed: EpisodeDurations) -> ...:\n",
    "    # description of the accumulator\n",
    "    acc = ...   # type: ...\n",
    "\n",
    "    for duration in ed:\n",
    "        acc = ...(duration, acc)\n",
    "\n",
    "    return ...(acc)"
   ]
  },
  {
   "cell_type": "markdown",
   "metadata": {},
   "source": [
    "Now, let's design a function that finds the average duration (in minutes) of all episodes in an `EpisodeDurations`.\n",
    "\n",
    "We're going to end up using multiple accumulators in this design. Template functions in data definitions give you code that *may* be useful to you, but you might decide not to use some pieces, to add or duplicate pieces, or to insert into the template code that isn't suggested by the template at all. For the list template, the accumulator is a suggestion: you may not need one, you may need one, or in rare cases where you're tracking multiple different evolving pieces of information through the loop, you may need multiple!"
   ]
  },
  {
   "cell_type": "code",
   "execution_count": null,
   "metadata": {},
   "outputs": [],
   "source": [
    "# We've completed signature, purpose, stub, and examples.\n",
    "# Let's continue from there!\n",
    "\n",
    "@typecheck\n",
    "def avg_episode_duration(ed: EpisodeDurations) -> float:\n",
    "    \"\"\"\n",
    "    Return the average duration (in minutes) of the episodes in ed.\n",
    "    \n",
    "    (The average duration of zero episodes is returned as 0.)\n",
    "    \"\"\"\n",
    "    return 0.0  #stub\n",
    "\n",
    "start_testing()\n",
    "\n",
    "expect(avg_episode_duration([]), 0.0)\n",
    "expect(avg_episode_duration([1, 1, 1, 1, 1]), 1)\n",
    "expect(avg_episode_duration([100.12, 12.1]), (100.12+12.1)/2)\n",
    "expect(avg_episode_duration(ED_GAME_OF_THRONES_S01), (61.62+55.28+57.23+55.62+54.27+52.6+57.79+58.13+56.27+52.62)/10)\n",
    "expect(avg_episode_duration(ED_FRIENDS_S01E01), 22.8)\n",
    "\n",
    "summary()"
   ]
  },
  {
   "cell_type": "code",
   "execution_count": null,
   "metadata": {},
   "outputs": [],
   "source": [
    "# Now, what we all came here for; the average episode length of The Good Place:\n",
    "\"The Good Place is the smartest, dumbest \" + str(avg_episode_duration(ED_GOOD_PLACE)) + \" minutes on television.\""
   ]
  },
  {
   "cell_type": "markdown",
   "metadata": {},
   "source": [
    "## Extra Accumulator Example\n",
    "\n",
    "(Intended for your own review after class.)\n",
    "\n",
    "Let's rewrite `contains_UBC` to use an accumulator to track whether we have seen \"UBC\" in the list so far."
   ]
  },
  {
   "cell_type": "code",
   "execution_count": null,
   "metadata": {},
   "outputs": [],
   "source": [
    "@typecheck\n",
    "def contains_UBC_with_accumulator(unis: List[str]) -> bool:\n",
    "    \"\"\"\n",
    "    return True if unis includes \"UBC\" else return False\n",
    "    \"\"\"\n",
    "    # return True #stub\n",
    "    # Template based on List[str]\n",
    "    \n",
    "    # We'll start from the \"raw\" template!\n",
    "    \n",
    "    # description of the accumulator\n",
    "    acc = ...   # type: ...\n",
    "\n",
    "    for uni in unis:\n",
    "        acc = ...(uni, acc)\n",
    "\n",
    "    return ...(acc)\n",
    "\n",
    "start_testing()\n",
    "\n",
    "expect(contains_UBC_with_accumulator([]), False)\n",
    "expect(contains_UBC_with_accumulator([\"UW\"]), False)\n",
    "expect(contains_UBC_with_accumulator([\"UBC\"]), True)\n",
    "expect(contains_UBC_with_accumulator([\"McGill\", \"SFU\", \"UBC\", \"MIT\", \"Harvard\"]), True)\n",
    "expect(contains_UBC_with_accumulator([\"McGill\", \"SFU\", \"MIT\", \"Harvard\"]), False)\n",
    "\n",
    "summary()"
   ]
  }
 ],
 "metadata": {
  "kernelspec": {
   "display_name": "Python 3 (ipykernel)",
   "language": "python",
   "name": "python3"
  },
  "language_info": {
   "codemirror_mode": {
    "name": "ipython",
    "version": 3
   },
   "file_extension": ".py",
   "mimetype": "text/x-python",
   "name": "python",
   "nbconvert_exporter": "python",
   "pygments_lexer": "ipython3",
   "version": "3.11.6"
  }
 },
 "nbformat": 4,
 "nbformat_minor": 4
}
