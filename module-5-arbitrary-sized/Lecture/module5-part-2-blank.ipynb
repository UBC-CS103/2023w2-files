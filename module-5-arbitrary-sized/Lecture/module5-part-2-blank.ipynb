{
 "cells": [
  {
   "cell_type": "code",
   "execution_count": 1,
   "metadata": {},
   "outputs": [],
   "source": [
    "from cs103 import *"
   ]
  },
  {
   "cell_type": "markdown",
   "metadata": {},
   "source": [
    "## Reminder\n",
    "\n",
    "The midterm is coming up! Please read carefully the instructions posted on Piazza.\n",
    "\n",
    "Contact the course coordinator by the end of Wednesday, Friday 28, to declare conflicts.\n",
    "\n",
    "## Recap\n",
    "\n",
    "Before the break, we introduced **arbitrary-sized data:** a data type suitable for collections of data of the same type.\n",
    "\n",
    "### Questions from the quiz\n",
    "- Why do we comment out the data definition type? Why do we not give a specific name to our new type like we do for all the other data definition types?\n",
    "- Are there times we don't need an accumulator? \n",
    "- What about needing more than one accumulator? \n",
    "- Can I put the accumulator outside the function? Can you use an accumulator in other types of data?\n",
    "- Can we combine arbitrary-sized data with other data types? i.e. - having a list of compounds"
   ]
  },
  {
   "cell_type": "markdown",
   "metadata": {},
   "source": [
    "## The reference rule\n",
    "Given the compound data Velocity, write a function to compute the average speed of all velocities in a list that are directed South. We will consider the range 45-135 degrees as directed South."
   ]
  },
  {
   "cell_type": "code",
   "execution_count": 14,
   "metadata": {},
   "outputs": [],
   "source": [
    "from typing import NamedTuple \n",
    "Velocity = NamedTuple('Velocity', [('speed', float), \n",
    "                                   ('dir', int)]) # in range[0,359] \n",
    "\n",
    "# interp. a velocity with its speed in m/s and direction \n",
    "# as an angle in degrees with east=0 increasing counterclockwise \n",
    "\n",
    "V1 = Velocity(9, 22) \n",
    "V2 = Velocity(3.4, 180) \n",
    "\n",
    "# template based on Compound \n",
    "@typecheck \n",
    "def fn_for_velocity(v: Velocity) -> ...: \n",
    "    return ...(v.speed, v.dir) "
   ]
  },
  {
   "cell_type": "code",
   "execution_count": 15,
   "metadata": {},
   "outputs": [],
   "source": [
    "from typing import List \n",
    "# List[Velocity] \n",
    "# interp. a list of velocities \n",
    "\n",
    "L0 = [] \n",
    "L1 = [Velocity(9, 22)] \n",
    "L2 = [Velocity(9, 22), Velocity(25, 135), Velocity(9, 22)] \n",
    "\n",
    "@typecheck \n",
    "# template based on arbitrary-sized and reference rule \n",
    "def fn_for_lov(lov: List[Velocity]) -> ...: \n",
    "    # description of the accumulator \n",
    "    acc = ... # type: ... \n",
    "    for v in lov: \n",
    "        acc = ...(fn_for_velocity(v), acc) \n",
    "    return ...(acc) "
   ]
  },
  {
   "cell_type": "code",
   "execution_count": null,
   "metadata": {},
   "outputs": [],
   "source": []
  },
  {
   "cell_type": "markdown",
   "metadata": {},
   "source": [
    "## From the worksheet (Problem 12-13)\n",
    "\n",
    "Below is a data definition for a Course. Design a data definition for a list of courses offered at a university. Be sure to follow all steps of the HtDD recipe."
   ]
  },
  {
   "cell_type": "code",
   "execution_count": null,
   "metadata": {},
   "outputs": [],
   "source": [
    "Course = NamedTuple('Course', [('name', str),\n",
    "                               ('num', int), # in range[0,699]\n",
    "                               ('dept', str), # 4 uppercase letters\n",
    "                               ('max_stu', int)]) # in range [0, …)\n",
    "# interp. a course's name, number, department that offers it, and maximum\n",
    "# number of students\n",
    "\n",
    "C1 = Course('Shakespeare', 520, 'ENGL', 45)\n",
    "C2 = Course('Algorithms', 221, 'CPSC', 300)\n",
    "C3 = Course('Finance', 331, 'COMM', 100)\n",
    "\n",
    "def fn_for_course(c: Course) -> ...: # template based on compound\n",
    "    return ...(c.name, # str\n",
    "               c.num, # int in range [0, 699]\n",
    "               c.dept, # str 4 uppercase letters\n",
    "               c.max_stu,) # int in rnage [0, ...)"
   ]
  },
  {
   "cell_type": "code",
   "execution_count": null,
   "metadata": {},
   "outputs": [],
   "source": [
    "# List Data Definition?"
   ]
  },
  {
   "cell_type": "markdown",
   "metadata": {},
   "source": [
    "Design a function that takes a list of courses and returns a list of the course codes of the courses. (The course code includes the department and number, e.g. “CPSC 103”) Be sure to follow the HtDF recipe and remember to follow the reference rule."
   ]
  },
  {
   "cell_type": "code",
   "execution_count": null,
   "metadata": {},
   "outputs": [],
   "source": []
  },
  {
   "cell_type": "markdown",
   "metadata": {},
   "source": [
    "### Another exercise on Course - filtering\n",
    "\n",
    "Often, we will be interested in filtering a list by certain characteristics of its elements. Let's try this idea now, and create a function to filter all courses from a particular department."
   ]
  },
  {
   "cell_type": "code",
   "execution_count": null,
   "metadata": {},
   "outputs": [],
   "source": []
  },
  {
   "cell_type": "markdown",
   "metadata": {},
   "source": [
    "## Reference Rule Outside of Lists\n",
    "\n",
    "Let's try working with a modified version of Velocity."
   ]
  },
  {
   "cell_type": "code",
   "execution_count": null,
   "metadata": {},
   "outputs": [],
   "source": [
    "from enum import Enum\n",
    "\n",
    "Direction = Enum(\"Direction\",[\"N\",\"S\",\"W\",\"E\"])\n",
    "\n",
    "#interpr. a direction (N - North, S - South, W - West, E - East)\n",
    "\n",
    "# Examples are redundant for Enumeration\n",
    "\n",
    "@typecheck\n",
    "# template for Enumeration (4 cases)\n",
    "def fn_for_direction(d: Direction) -> ...:\n",
    "    if d == Direction.N:\n",
    "        return ...\n",
    "    elif d == Direction.S:\n",
    "        return ...\n",
    "    elif d == Direction.W:\n",
    "        return ...\n",
    "    elif d == Direction.E:\n",
    "        return ...\n",
    "    \n",
    "\n",
    "from typing import NamedTuple \n",
    "Velocity = NamedTuple('Velocity', [('speed', float), \n",
    "                                   ('dir', Direction)])  \n",
    "\n",
    "# interp. a velocity with its speed in m/s and direction \n",
    "# as North, South, West or East \n",
    "\n",
    "V1 = Velocity(9, Direction.N) \n",
    "V2 = Velocity(3.4, Direction.S) \n",
    "\n",
    "# template based on Compound and reference rule\n",
    "@typecheck \n",
    "def fn_for_velocity(v: Velocity) -> ...: \n",
    "    return ...(v.speed, fn_for_direction(v.dir))   # because dir is not a primitive type, we must access it\n",
    "                                                   # through a function!\n",
    "\n",
    "from typing import List \n",
    "# List[Velocity] \n",
    "# interp. a list of velocities \n",
    "\n",
    "L0 = [] \n",
    "L1 = [Velocity(9, Direction.N)] \n",
    "L2 = [Velocity(9, Direction.N), Velocity(25, Direction.S), Velocity(9, Direction.E)] \n",
    "\n",
    "@typecheck \n",
    "# template based on arbitrary-sized and reference rule \n",
    "def fn_for_lov(lov: List[Velocity]) -> ...: \n",
    "    # description of the accumulator \n",
    "    acc = ... # type: ... \n",
    "    for v in lov: \n",
    "        acc = ...(fn_for_velocity(v), acc) \n",
    "    return ...(acc) "
   ]
  },
  {
   "cell_type": "markdown",
   "metadata": {},
   "source": [
    "Let's rewrite the function to compute the average speed of all velocities in a list that are directed South with the new Velocity definition."
   ]
  },
  {
   "cell_type": "code",
   "execution_count": null,
   "metadata": {},
   "outputs": [],
   "source": []
  },
  {
   "cell_type": "markdown",
   "metadata": {},
   "source": [
    "Lists can refer to other types defined in a data definition, but so can several other types of data. Specifically, Optionals and Compounds can refer to other data definitions. In those cases, you follow the same reference rule as with lists.\n",
    "\n",
    "**Every time you are manipulating non-primitive data, the reference rule applies. The template, if written correctly, will help you know when a function is needed.** \n",
    "\n",
    "Here's a problem from a previous exam to practice applying the reference rule. Start by reading carefully the following data definitions:\n"
   ]
  },
  {
   "cell_type": "code",
   "execution_count": null,
   "metadata": {},
   "outputs": [],
   "source": [
    "from enum import Enum\n",
    "from typing import NamedTuple, List\n",
    "\n",
    "TeaLeaf = Enum(\"TeaLeaf\", [\"BL\", \"GR\", \"HE\"])\n",
    "# interp. A variety of tea, one of black (BL), green\n",
    "# (GR) or herbal (HE).\n",
    "\n",
    "# examples are redundant for enumerations\n",
    "\n",
    "@typecheck\n",
    "# Template based on Enumeration (3 cases)\n",
    "def fn_for_tea_leaf(tf: TeaLeaf) -> ...:\n",
    "    if tf == TeaLeaf.BL:\n",
    "        return ...\n",
    "    elif tf == TeaLeaf.GR:\n",
    "        return ...\n",
    "    elif tf == TeaLeaf.HE:\n",
    "        return ...\n",
    "    \n",
    "    \n",
    "Tea = NamedTuple(\"Tea\", [(\"name\", str),\n",
    "                         (\"type\", TeaLeaf),\n",
    "                         (\"amt_per_cup\", int)])    # in range (0, ...)\n",
    "\n",
    "# interp. A kind of tea with information about its name, leaf type (black, green or herbal), and\n",
    "# recommended quantity for infusion (in grams) for 1 cup of tea.\n",
    "\n",
    "T_EARL = Tea(\"Earl Grey\", TeaLeaf.BL, 15)\n",
    "T_JASMINE = Tea(\"Jasmine\", TeaLeaf.GR, 10)\n",
    "T_MINT = Tea(\"Mint Infusion\", TeaLeaf.HE, 20)\n",
    "\n",
    "@typecheck\n",
    "# Template based on Compound (3 fields) and reference rule\n",
    "def fn_for_tea(t: Tea) -> ...:\n",
    "    return ...(t.name,\n",
    "               fn_for_tea_leaf(t.type),\n",
    "               t.amt_per_cup)\n",
    "\n",
    "\n",
    "# List[Tea]\n",
    "# interp. a list of teas\n",
    "\n",
    "L0 = []\n",
    "L1 = [T_EARL]\n",
    "L2 = [T_JASMINE, T_EARL, T_MINT]\n",
    "\n",
    "@typecheck\n",
    "def fn_for_lot(lot: List[Tea]) -> ...:\n",
    "# template based on arbitrary sized and reference rule\n",
    "    # description of acc\n",
    "    acc = ... # type: ...\n",
    "    \n",
    "    for t in lot:\n",
    "        acc = ...(fn_for_tea(t), acc)\n",
    "    \n",
    "    return ...(acc)"
   ]
  },
  {
   "cell_type": "markdown",
   "metadata": {},
   "source": [
    "**Problem:** Given a list of teas and a tea leaf type, design a function to return all the names of the teas that\n",
    "are of that given tea type."
   ]
  },
  {
   "cell_type": "code",
   "execution_count": null,
   "metadata": {},
   "outputs": [],
   "source": [
    "def find_tea_names(lot: List[Tea], tea_type: TeaLeaf) -> List[str]:\n",
    "    \"\"\"\n",
    "    Returns the names of all the teas in lot that are of tea_type.\n",
    "    \"\"\"\n",
    "    return [] # stub\n",
    "    # CONTINUE"
   ]
  }
 ],
 "metadata": {
  "kernelspec": {
   "display_name": "Python 3 (ipykernel)",
   "language": "python",
   "name": "python3"
  },
  "language_info": {
   "codemirror_mode": {
    "name": "ipython",
    "version": 3
   },
   "file_extension": ".py",
   "mimetype": "text/x-python",
   "name": "python",
   "nbconvert_exporter": "python",
   "pygments_lexer": "ipython3",
   "version": "3.8.17"
  }
 },
 "nbformat": 4,
 "nbformat_minor": 4
}
