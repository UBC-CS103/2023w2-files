{
 "cells": [
  {
   "cell_type": "code",
   "execution_count": null,
   "metadata": {
    "tags": []
   },
   "outputs": [],
   "source": [
    "from cs103 import *"
   ]
  },
  {
   "cell_type": "markdown",
   "metadata": {},
   "source": [
    "## Pre-Tutorial Work:\n",
    "\n",
    "Complete Part One of the worksheet.\n",
    "\n",
    "## Problem 1\n",
    "\n",
    "A function `any_odd` has been designed using our HtDF method.  For each of the examples given below, fill in the trace table and show the value stored in the variable `res` and the portion of the list that has been “seen” so far each time the body of the loop is executed. Just fill in \"n/a\" for cells that make no sense, but notice that even if the loop never runs, we can still ask about \"just before the first time through the loop\", which is when the `for` loop notices that there are no elements of `loi`."
   ]
  },
  {
   "cell_type": "code",
   "execution_count": null,
   "metadata": {
    "tags": []
   },
   "outputs": [],
   "source": [
    "from cs103 import *\n",
    "from typing import List\n",
    "\n",
    "@typecheck\n",
    "def any_odd(loi: List[int]) -> bool:\n",
    "    \"\"\"\n",
    "    return True if any element in loi is odd\n",
    "    \"\"\"\n",
    "    # return False #stub\n",
    "    # template from List[int]\n",
    "    \n",
    "    res = False\n",
    "    for i in loi:\n",
    "        if i % 2 != 0:\n",
    "            res = True\n",
    "    return res\n",
    "    \n",
    "start_testing()\n",
    "\n",
    "expect(any_odd([]), False)\n",
    "expect(any_odd([7, -4, 8]), True)\n",
    "expect(any_odd([4, 2, 1]), True)\n",
    "expect(any_odd([6, 5, 10]), True)\n",
    "expect(any_odd([-10, -12, -14]), False)\n",
    "\n",
    "summary()"
   ]
  },
  {
   "cell_type": "markdown",
   "metadata": {},
   "source": [
    "### Trace table\n",
    "\n",
    "Your solution goes here.  To edit this table, double click in the cell.  As an example, we have filled in the first row.\n",
    "\n",
    "| Example         | just before 1st time through the loop | just before 2nd time  | just before 3rd time  | just before 4th time |\n",
    "|-----------------|---|---|---|---|\n",
    "| `[]`            | `res = False`, have seen `[]` | n/a                              | n/a                                 | n/a                                     |\n",
    "| `[7, -4, 8]`    |   |   |   |   |\n",
    "| `[4, 2, 1]`     |   |   |   |   |\n",
    "| `[6, 5, 10]`    |   |   |   |   |\n",
    "| `[-10,-12,-14]` |   |   |   |   |"
   ]
  },
  {
   "cell_type": "markdown",
   "metadata": {},
   "source": [
    "## Problem 2\n",
    "\n",
    "Below is an alternative implementation for `any_odd`. Note that the signature and purpose are the same, but the function name has been changed to `any_odd2` and the implementation is different.\n",
    "\n",
    "For each of the examples in the function design `any_odd2` below, fill in the trace table and show the portion of the list that has been “seen” so far each time the body of the loop is executed. \n",
    "\n"
   ]
  },
  {
   "cell_type": "code",
   "execution_count": null,
   "metadata": {},
   "outputs": [],
   "source": [
    "from cs103 import *\n",
    "from typing import List\n",
    "\n",
    "@typecheck\n",
    "def any_odd2(loi: List[int]) -> bool:\n",
    "    \"\"\"\n",
    "    return True if any element in loi is odd\n",
    "    \"\"\"\n",
    "    # return False #stub\n",
    "    # template from List[int]\n",
    "    \n",
    "    for i in loi:\n",
    "        if i % 2 != 0:\n",
    "            return True\n",
    "    return False\n",
    "    \n",
    "start_testing()\n",
    "\n",
    "expect(any_odd([]), False)\n",
    "expect(any_odd([7, -4, 8]), True)\n",
    "expect(any_odd([4, 2, 1]), True)\n",
    "expect(any_odd([6, 5, 10]), True)\n",
    "expect(any_odd([-10, -12, -14]), False)\n",
    "\n",
    "summary()"
   ]
  },
  {
   "cell_type": "markdown",
   "metadata": {},
   "source": [
    "### Trace table\n",
    "\n",
    "Your solution goes here.  To edit this table, double click in the cell. As an example, we have filled in the first row.\n",
    "\n",
    "| Example         |  just before 1st time through the loop | just before 2nd time  | just before 3rd time  |  just before 4th time |\n",
    "|-----------------|---|---|---|---|\n",
    "| `[]`            | have seen `[]` | n/a               | n/a                  | n/a                      |\n",
    "| `[7, -4, 8]`    |   |   |   |   |\n",
    "| `[4, 2, 1]`     |   |   |   |   |\n",
    "| `[6, 5, 10]`    |   |   |   |   |\n",
    "| `[-10,-12,-14]` |   |   |   |   |\n"
   ]
  },
  {
   "cell_type": "markdown",
   "metadata": {},
   "source": [
    "## Problem 3\n",
    "\n",
    "**PROBLEMS 3 AND 4 RELY ON MODULE 5 WEEK 2 MATERIAL!** You're welcome to start early, but we'll focus on this in the second week rather than the first. (A good stopping point might be to design the data definition below as if it were a list that contains a primitive type. Then, in the pre-reading for the second class, you'll see how to modify that data definition to follow the *reference rule*.)\n",
    "\n",
    "Below is a table of information on domestic flights within Canada. You are going to build on the CanadaFlight data definition (given below) that is appropriate to store one row of information from this table in order to create a data type that can store an arbitrary number of Canadian flights. \n",
    "\n",
    "\n",
    "| Flight number | Airline | Carrier | Departs from | Arrives in | Duration (in minutes) | \n",
    "|-----------|---|---|---|---|---|\n",
    "|4N582 | Air North |Boeing 737-500 | Vancouver | Whitehorse\t| 145|\n",
    "|4N809 | Air North |Boeing 737-500 | Whitehorse | Vancouver | 135|\n",
    "|F8661  | Flair Airlines | Boeing 737 MAX 8 | Vancouver  | Toronto | 310|\n",
    "|F8600  | Flair Airlines | Boeing 737 MAX 8 | Toronto | Vancouver | 275|\n",
    "|PD2461 | Porter Airlines | DHC-8-400 Dash 8Q | Toronto | Montreal | 75|\n"
   ]
  },
  {
   "cell_type": "code",
   "execution_count": null,
   "metadata": {
    "tags": []
   },
   "outputs": [],
   "source": [
    "from typing import NamedTuple, List\n",
    "\n",
    "CanadaFlight = NamedTuple('CanadaFlight', [('number', str),\n",
    "                                           ('airline', str),\n",
    "                                           ('carrier', str),\n",
    "                                           ('depart', str),\n",
    "                                           ('arrive', str),\n",
    "                                           ('duration', int)])    # in range[0, ...)\n",
    "# interp. A Canadian domestic flight. includes the flight number,\n",
    "# airline, carrier type, departure city ('depart'), destination ('arrive'), \n",
    "# and flight duration ('duration') in minutes\n",
    "\n",
    "VAN_WHI = CanadaFlight(\"4N582\", \n",
    "                       \"Air North\", \n",
    "                       \"Boeing 737-500\", \n",
    "                       \"Vancouver\", \n",
    "                       \"Whitehorse\", \n",
    "                       145)\n",
    "\n",
    "WHI_VAN = CanadaFlight(\"4N809\", \n",
    "                       \"Air North\", \n",
    "                       \"Boeing 737-500\",  \n",
    "                       \"Whitehorse\", \n",
    "                       \"Vancouver\",\n",
    "                       135)\n",
    "\n",
    "VAN_TOR = CanadaFlight(\"F8600\", \n",
    "                       \"Flair Airlines\", \n",
    "                       \"Boeing 737 MAX 8\", \n",
    "                       \"Vancouver\", \n",
    "                       \"Toronto\", \n",
    "                       310)\n",
    "\n",
    "TOR_VAN = CanadaFlight(\"F8661\", \n",
    "                       \"Flair Airlines\", \n",
    "                       \"Boeing 737 MAX 8\", \n",
    "                       \"Toronto\", \n",
    "                       \"Vancouver\", \n",
    "                       275)\n",
    "\n",
    "TOR_MON = CanadaFlight(\"PD2461\", \n",
    "                       \"Porter Airlines\", \n",
    "                       \"DHC-8-400 Dash 8Q\", \n",
    "                       \"Toronto\", \n",
    "                       \"Montreal\", \n",
    "                       75)\n",
    "\n",
    "\n",
    "# template based on compound\n",
    "@typecheck\n",
    "def fn_for_canada_flight(cf: CanadaFlight) -> ...:\n",
    "    return ...(cf.number,\n",
    "               cf.airline,\n",
    "               cf.carrier,\n",
    "               cf.depart,\n",
    "               cf.arrive,\n",
    "               cf.duration)"
   ]
  },
  {
   "cell_type": "markdown",
   "metadata": {},
   "source": [
    "**Design a data definition to represent an arbitrary number of Canadian flights.** Remember to follow the HtDD recipe."
   ]
  },
  {
   "cell_type": "code",
   "execution_count": null,
   "metadata": {
    "tags": []
   },
   "outputs": [],
   "source": [
    "# your solution goes here"
   ]
  },
  {
   "cell_type": "markdown",
   "metadata": {},
   "source": [
    "## Problem 4\n",
    "\n",
    "Design a function that takes a list of Canadian flights and finds flight number corresponding to the longest flight. If two or more are tied, return the first one.\n",
    "\n",
    "Hints:\n",
    "1. You may assume that the input list is not empty. (In that case, be sure to *state* that assumption in your function's purpose! Otherwise callers of your function may think they can pass in an empty list.)\n",
    "2. You may want to design your loop to find the *whole* CanadaFlight with the largest duration. Once you've done that, is there a way to get just the flight number after the loop?\n",
    "3. For tests, make sure to have enough tests to prove that the longest flight can be found anywhere in the list, and for lists of any valid size. Also, remember to test for *ties*."
   ]
  },
  {
   "cell_type": "code",
   "execution_count": null,
   "metadata": {
    "tags": []
   },
   "outputs": [],
   "source": [
    "# your solution goes here"
   ]
  },
  {
   "cell_type": "markdown",
   "metadata": {},
   "source": [
    "## Submit your solution"
   ]
  },
  {
   "cell_type": "code",
   "execution_count": null,
   "metadata": {},
   "outputs": [],
   "source": [
    "# NOTE: You should not be able to edit this cell. Just run it to start the process of submiting your code.\n",
    "from cs103 import submit\n",
    "\n",
    "COURSE = 130118\n",
    "ASSIGNMENT = 1740543\n",
    "\n",
    "submit(COURSE, ASSIGNMENT)\n",
    "\n",
    "# If your submission fails,  SUBMIT ANYWAY by downloading your files and uploading them \n",
    "# to Canvas. You can learn how on the page \"How to submit your Jupyter notebook\" on our \n",
    "# Canvas site."
   ]
  }
 ],
 "metadata": {
  "kernelspec": {
   "display_name": "Python 3 (ipykernel)",
   "language": "python",
   "name": "python3"
  },
  "language_info": {
   "codemirror_mode": {
    "name": "ipython",
    "version": 3
   },
   "file_extension": ".py",
   "mimetype": "text/x-python",
   "name": "python",
   "nbconvert_exporter": "python",
   "pygments_lexer": "ipython3",
   "version": "3.8.17"
  }
 },
 "nbformat": 4,
 "nbformat_minor": 4
}
