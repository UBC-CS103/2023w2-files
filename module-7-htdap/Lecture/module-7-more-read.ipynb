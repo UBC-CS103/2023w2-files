{
 "cells": [
  {
   "cell_type": "markdown",
   "id": "c8e61b89",
   "metadata": {},
   "source": [
    "In this notebook, we will do a few more exercises to become familiar with the `read` function of the HtDAP recipe.\n",
    "\n",
    "We will be using the same source file (`crimedata_subset_bne_theft_of_bike_veh_2018.csv`), but this time, we are interested in storing the date of the crime (as year, month and day) and the neighborhood. The necessary data definitions are already given to you."
   ]
  },
  {
   "cell_type": "code",
   "execution_count": 2,
   "id": "6ddfd717",
   "metadata": {},
   "outputs": [],
   "source": [
    "from cs103 import *\n",
    "from enum import Enum\n",
    "from typing import NamedTuple, List\n",
    "import csv\n",
    "\n",
    "##################\n",
    "# Data Definitions\n",
    "\n",
    "Month = Enum('Month', ['JAN', 'FEB', 'MAR', 'APR', 'MAY', 'JUN', 'JUL', 'AUG', 'SEP', 'OCT', 'NOV', 'DEC'])\n",
    "# interpr. a month of the year\n",
    "\n",
    "# Examples are redundant for enumeration\n",
    "\n",
    "@typecheck\n",
    "# Template based on Enumeration (12 cases)\n",
    "def fn_for_month(m: Month) -> ...:\n",
    "    if m == Month.JAN:\n",
    "        return ...\n",
    "    elif m == Month.FEB:\n",
    "        return ...\n",
    "    elif m == Month.MAR:\n",
    "        return ...\n",
    "    elif m == Month.APR:\n",
    "        return ...\n",
    "    elif m == Month.MAY:\n",
    "        return ...\n",
    "    elif m == Month.JUN:\n",
    "        return ...\n",
    "    elif m == Month.JUL:\n",
    "        return ...\n",
    "    elif m == Month.AUG:\n",
    "        return ...\n",
    "    elif m == Month.SEP:\n",
    "        return ...\n",
    "    elif m == Month.OCT:\n",
    "        return ...\n",
    "    elif m == Month.NOV:\n",
    "        return ...\n",
    "    elif m == Month.DEC:\n",
    "        return ...\n",
    "    \n",
    "    \n",
    "CrimeData = NamedTuple('CrimeData', [('neighborhood', str),\n",
    "                                     ('year', int),\n",
    "                                     ('month', Month),\n",
    "                                     ('day', int)])      # in range [1,31]\n",
    "                                     \n",
    "\n",
    "# interpr. a Crime Data point including the neighborhood where the crime occurred\n",
    "# and the date as year, month and day.\n",
    "\n",
    "CD1 = CrimeData(\"West End\", 2000, Month.JAN, 1)\n",
    "CD2 = CrimeData(\"\", 2020, Month.DEC, 31)    # Example to show that the neighborhood information may be missing\n",
    "\n",
    "@typecheck\n",
    "# Template based on composition (4 fields) and reference rule\n",
    "def fn_for_crime_data(cd: CrimeData) -> ...:\n",
    "    return ...(cd.neighborhood,\n",
    "               cd.year,\n",
    "               fn_for_month(cd.month),\n",
    "               cd.day)\n",
    "\n",
    "\n",
    "# List[CrimeData]\n",
    "# interp. a list of CrimeData\n",
    "\n",
    "LOC0 = []\n",
    "LOC1 = [CD1, CD2]\n",
    "\n",
    "@typecheck\n",
    "# Template for arbitrary sized and reference rule\n",
    "def fn_for_locd(locd: List[CrimeData]) -> ...:\n",
    "    # description of the accumulator\n",
    "    acc = ...   # type: ...\n",
    "\n",
    "    for cd in locd:\n",
    "        acc = ...(fn_for_crime_data(cd), acc)\n",
    "\n",
    "    return ...(acc)\n",
    "\n"
   ]
  },
  {
   "cell_type": "markdown",
   "id": "f01f7fcb",
   "metadata": {},
   "source": [
    "Before we move onto writing the `read` function, let's stop and think about which column may need to be parsed.\n",
    "\n",
    "https://www.menti.com/al2ctz7hn4kz\n",
    "\n",
    "Parse functions always take 1 parameter, and it's always the same type: **which one?**"
   ]
  },
  {
   "cell_type": "code",
   "execution_count": null,
   "id": "22db46e8",
   "metadata": {},
   "outputs": [],
   "source": [
    "# Write the necessary parse functions here"
   ]
  },
  {
   "cell_type": "code",
   "execution_count": null,
   "id": "e45b554e",
   "metadata": {},
   "outputs": [],
   "source": [
    "# Now, complete the read function for CrimeData, using the HtDAP template\n",
    "\n",
    "@typecheck\n",
    "def read(filename: str) -> List[Consumed]:\n",
    "    \"\"\"    \n",
    "    reads information from the specified file and returns ...\n",
    "    \"\"\"\n",
    "    #return []  #stub\n",
    "    # Template from HtDAP\n",
    "    # loc contains the result so far\n",
    "    loc = [] # type: List[Consumed]\n",
    "\n",
    "    with open(filename) as csvfile:\n",
    "        \n",
    "        reader = csv.reader(csvfile)\n",
    "        next(reader) # skip header line\n",
    "\n",
    "        for row in reader:\n",
    "            # you may not need to store all the rows, and you may need\n",
    "            # to convert some of the strings to other types\n",
    "            c = Consumed(row[0], ... ,row[n])\n",
    "            loc.append(c)\n",
    "    \n",
    "    return loc\n",
    "\n",
    "start_testing()\n",
    "\n",
    "# Examples and tests for read\n",
    "expect(..., ...)\n",
    "\n",
    "summary()"
   ]
  },
  {
   "cell_type": "markdown",
   "id": "c7ea1035",
   "metadata": {},
   "source": [
    "**Extra practice exercise:** write a function equivalent to `is_reliable`, this time checking that the neighborhood information is not missing, and add it to your read function."
   ]
  },
  {
   "cell_type": "code",
   "execution_count": null,
   "id": "81c6677e",
   "metadata": {},
   "outputs": [],
   "source": [
    "# Complete is_reliable below\n",
    "\n",
    "@typecheck\n",
    "def is_reliable(row: List[str]) -> bool:"
   ]
  },
  {
   "cell_type": "code",
   "execution_count": null,
   "id": "851364a4",
   "metadata": {},
   "outputs": [],
   "source": []
  }
 ],
 "metadata": {
  "kernelspec": {
   "display_name": "Python 3 (ipykernel)",
   "language": "python",
   "name": "python3"
  },
  "language_info": {
   "codemirror_mode": {
    "name": "ipython",
    "version": 3
   },
   "file_extension": ".py",
   "mimetype": "text/x-python",
   "name": "python",
   "nbconvert_exporter": "python",
   "pygments_lexer": "ipython3",
   "version": "3.8.17"
  }
 },
 "nbformat": 4,
 "nbformat_minor": 5
}
