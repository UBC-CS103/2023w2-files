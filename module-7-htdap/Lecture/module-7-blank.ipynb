{
 "cells": [
  {
   "cell_type": "markdown",
   "metadata": {},
   "source": [
    "# Module 7 - How to Design Analysis Programs\n",
    "\n",
    "## ...but first, some updates\n",
    "\n",
    "- The deadline of the project milestone has been moved to Monday, March 25 (10PM)\n",
    "- Opportunities to get additional help with the project will be available in class (March 26, April 9 and 11) and during tutorials (last 3 weeks), on top of OH already available and Piazza.\n",
    "- Midterm grades to be released tomorrow - look out for a Piazza announcement.\n",
    "\n",
    "## Important update regarding the last 3 weeks of course\n",
    "- Sadly, I will have to absent myself and will not be able to deliver the last 3 weeks of class in person.\n",
    "- The last lecture on Module 7 (March 28) will be delivered on Zoom and recorded (similarly to what happened during campus closures)\n",
    "- Module 8 (April 2 and 4) will be covered in class by the TAs. I will also post a video to cover the same content, so that you have mutliple sources available.\n",
    "- 2 TAs will be in class during designated in-class OH (March 26, April 9 and 11). I will also be available on Zoom at the same time (be aware of high attendance in both venues). I will also deliver my regular OH (Tu-Th 2-3:15) on Zoom (all links on Canvas).\n",
    "- As I expect more traffic during these OH, I will be using the queue system explained at the top of this [Canvas page](https://canvas.ubc.ca/courses/130118/pages/schedule-tutorials-and-office-hours?module_item_id=6407799). Students not in the queue will not be admitted!"
   ]
  },
  {
   "cell_type": "markdown",
   "metadata": {},
   "source": [
    "## Module 7 - Learning goals\n",
    "- Identify the information that is available to you. \n",
    "- Identify many possible outputs that your program could produce, given the information that you have available. \n",
    "- Decide which subset of information you need to represent as data in your program to solve particular problems. \n",
    "- Design a read function to read information from a file and represent it as data in your program. \n",
    "- Describe all steps you need to do for the Project Milestone! "
   ]
  },
  {
   "cell_type": "markdown",
   "metadata": {},
   "source": [
    "## How to Design Analysis Programs - HtDAP recipe\n",
    "\n",
    "1. Planning\n",
    "    1. Identify the information in the file your program will read. \n",
    "    2. Write a description of what your program will produce.\n",
    "    3. Write or draw examples of what your program will produce. \n",
    "2. Building the program\n",
    "    1. Design data definitions. \n",
    "    2. Design a function to read the information and store it as data in your program. \n",
    "    3. Design functions to analyze the data. "
   ]
  },
  {
   "cell_type": "markdown",
   "metadata": {},
   "source": [
    "## Analysing VPD Crime Data\n",
    "\n",
    "We've uploaded a tiny portion of the crime data shared by the [Vancouver Police Department](https://vancouver.ca/police/)'s [Open Data initiative](https://geodash.vpd.ca/opendata/). The complete file has well over half a million rows. The portion we uploaded is all crimes labelled as \"break and enter\" (in two variants: commercial and residential) and \"theft of\" (in two variants: vehicle and bicycle) in 2018.\n",
    "\n",
    "You can see our information file in this directory named `crimedata_subset_bne_theft_of_bike_veh_2018.csv`. You can also find the license for this information and a PDF file from VPD describing the information source.\n",
    "\n",
    "Let's see if we can answer the question: At what time of day does crime of various types peak in Vancouver?\n",
    "\n",
    "We'll **start from the project final submission template** to get good practice both on using HtDAP and preparing for the project! (We've edited this slightly to note places where we'll deviate from the project.)"
   ]
  },
  {
   "cell_type": "markdown",
   "metadata": {},
   "source": [
    "### Step 1a: Planning \n",
    "#### Identify the information in the file your program will read\n",
    "\n",
    "- Open the csv file that you are going to work on and describe its information. \n",
    "- See what fields each data has and what type of data you can see on it. \n",
    "- Identify all data in the file, not only the data you are going to use in your analysis. \n",
    "\n",
    "#### Side note: CSV files\n",
    "\n",
    "- CSV is a simple file format used to store tabular data, such as a spreadsheet or database.\n",
    "- It is a text file that uses a comma to separate values.\n",
    "- The first line has all fields’ names and all other lines have the data itself. \n",
    "- Jupyter can open it as a text file. Excel can open it, but will convert it to a spreadsheet and Jupyter will not be able to read it anymore.\n",
    "- Jupyter shows line numbers on the left (notice that maybe one line does not fit on the screen, but it is still only one line). \n",
    "- The file must have exactly one empty line at the end! \n",
    "- The csv file must be in the same folder as your program. \n",
    "\n",
    "*Your solution here*"
   ]
  },
  {
   "cell_type": "markdown",
   "metadata": {},
   "source": [
    "### Step 1b: Planning \n",
    "#### Write a description of what your program will produce\n",
    "\n",
    "- Explain what you are going to analyze and how you are going to do this. \n",
    "- Describe what your problem should return, one value and a graph you are going to plot. \n",
    "- Give any special information you are going to need to assume or problems you can see in your data file (csv files may have problems and you are not allowed to change then in any way!). \n",
    "\n",
    "You must brainstorm at least three ideas for graphs or charts that your program could produce and choose the one that you'd like to work on. You can choose between a line chart, histogram, bar chart, scatterplot, or pie chart. *Note: we might focus on non-graphs for now, since we're really studying HtDAP rather than the project.*\n",
    "\n",
    "*Your solution here*"
   ]
  },
  {
   "cell_type": "markdown",
   "metadata": {},
   "source": [
    "### Step 1c: Planning \n",
    "#### Write or draw examples of what your program will produce\n",
    "\n",
    "- Add an example of how you are going to run your program (function name and its inputs or parameters). \n",
    "- Describe any values it should return. \n",
    "- Attach a drawing of the graph you are going to plot. \n",
    "- You should not use an application and this don’t need to be based in any real information from your csv file. To do that use Jupyter’s insert image command (the image file should be on the same folder as the code file): \n",
    "```\n",
    "![title](image_name.jpg) \n",
    "```\n",
    "\n",
    "\n",
    "You must include an image that shows what your chart or plot will look like. You can insert an image using the Insert Image command near the bottom of the Edit menu. *Note: we'll practice using the \"insert image\" command just for the fun of it, but we are still not focusing on graphs/charts.*\n",
    "\n",
    "**TODO: sketch a graph of crime over the hours of the day for the various types of crime.**"
   ]
  },
  {
   "cell_type": "markdown",
   "metadata": {},
   "source": [
    "### Step 2a: Building\n",
    "#### Design data definitions\n",
    "\n",
    "- You should design data that your program is going to use. \n",
    "- You should focus only on the fields that your program is going to use and choose the correct type for each one. \n",
    "- If you chose a non-primitive (interval, enumeration, optional...) you have to design it. \n",
    "- Create a compound data to represent one line of data on the csv file (Consumed). \n",
    "- Create a list from this compound data to represent all lines of data on the csv file (List[Consumed]). \n",
    "- You may need more data that can be added later (for example, List[int] or List[str]). \n",
    "\n",
    "*Note: we'll skip the \"chart or graph\" part!*"
   ]
  },
  {
   "cell_type": "code",
   "execution_count": null,
   "metadata": {
    "tags": []
   },
   "outputs": [],
   "source": [
    "from cs103 import *\n",
    "from typing import NamedTuple, List\n",
    "from enum import Enum\n",
    "import csv\n",
    "\n",
    "##################\n",
    "# Data Definitions\n"
   ]
  },
  {
   "cell_type": "code",
   "execution_count": null,
   "metadata": {},
   "outputs": [],
   "source": [
    "# Here are some definitions we'll need later on that aren't particularly interesting to work on in class!\n",
    "\n",
    "# List[str]\n",
    "# interp. a list of strings\n",
    "LOS0 = []\n",
    "LOS1 = ['hello', 'world']\n",
    "\n",
    "# template based on arbitrary-sized data\n",
    "@typecheck\n",
    "def fn_for_los(los: List[str]) -> ...:\n",
    "    # description of accumulator\n",
    "    acc = ... # type: ...\n",
    "    \n",
    "    for s in los:\n",
    "        acc = ...(s, acc)\n",
    "        \n",
    "    return ...(acc)\n",
    "\n",
    "\n",
    "# List[int]\n",
    "# interp. a list of integers\n",
    "LOI0 = []\n",
    "LOI1 = [1, -12]\n",
    "\n",
    "# template based on arbitrary-sized data\n",
    "@typecheck\n",
    "def fn_for_loi(loi: List[int]) -> ...:\n",
    "    # description of accumulator\n",
    "    acc = ... # type: ...\n",
    "    \n",
    "    for i in loi:\n",
    "        acc = ...(i, acc)\n",
    "        \n",
    "    return ...(acc)"
   ]
  },
  {
   "cell_type": "markdown",
   "metadata": {},
   "source": [
    "### Step 2b: Building\n",
    "#### Design a function to read the information and store it as data in your program\n",
    "\n",
    "- You should complete the read function from its template. \n",
    "- Change the Consumed type name.\n",
    "- Check what columns from the file you need.\n",
    "- Check if the types needs parsing (changing the representation on the computer). All data on the csv file is a string. \n",
    "- You can also add any other function you need (as to filter only the data that matters from your file, or remove err rows from the csv file).\n",
    "- You should create at least two small csv files for testing, so you can be sure your function is working before using it in the large files. "
   ]
  },
  {
   "cell_type": "code",
   "execution_count": null,
   "metadata": {},
   "outputs": [],
   "source": [
    "@typecheck\n",
    "def read(filename: str) -> List[Consumed]:\n",
    "    \"\"\"    \n",
    "    reads information from the specified file and returns ...\n",
    "    \"\"\"\n",
    "    #return []  #stub\n",
    "    # Template from HtDAP\n",
    "    # loc contains the result so far\n",
    "    loc = [] # type: List[Consumed]\n",
    "\n",
    "    with open(filename) as csvfile:\n",
    "        \n",
    "        reader = csv.reader(csvfile)\n",
    "        next(reader) # skip header line\n",
    "\n",
    "        for row in reader:\n",
    "            # you may not need to store all the rows, and you may need\n",
    "            # to convert some of the strings to other types\n",
    "            c = Consumed(row[0], ... ,row[n])\n",
    "            loc.append(c)\n",
    "    \n",
    "    return loc\n",
    "\n",
    "# row is a list of string that has all data from one row. \n",
    "# row[0] has the data from the first column of row. \n",
    "# row[1] has the data from the second column of row. \n",
    "# row[i] has the data from the (i+1)th column of row. \n",
    "\n",
    "# All data from row is a string, if you need a different type you must convert it\n",
    "# using a parse function.\n",
    "# parse_int() and parse_float() are already defined in the cpsc103 package.\n",
    "# For all other types (enumeration, optional, etc...) you must create your parse function. \n",
    "\n",
    "\n",
    "start_testing()\n",
    "\n",
    "# Examples and tests for read\n",
    "expect(..., ...)\n",
    "\n",
    "summary()\n",
    "\n"
   ]
  },
  {
   "cell_type": "markdown",
   "metadata": {},
   "source": [
    "### Step 2c: Building\n",
    "#### Design functions to analyze the data\n",
    "\n",
    "Complete these steps in the code cell below. You will likely want to rename the analyze function so that the function name describes what your analysis function does.\n",
    "\n",
    "\n",
    "**NOTE:** To make this manageable in class, we will provide some finished helper functions with the second week's notes."
   ]
  },
  {
   "cell_type": "code",
   "execution_count": null,
   "metadata": {},
   "outputs": [],
   "source": [
    "###########\n",
    "# Functions\n",
    "\n",
    "@typecheck\n",
    "def main(filename: str) -> ...:\n",
    "    \"\"\"\n",
    "    Reads the file from given filename, analyzes the data, returns the result \n",
    "    \"\"\"\n",
    "    # Template from HtDAP, based on function composition \n",
    "    return analyze(read(filename)) \n",
    "    \n",
    "    \n",
    "\n",
    "\n",
    "@typecheck\n",
    "def analyze(loc: List[Consumed]) -> Produced: \n",
    "    \"\"\" \n",
    "    ... \n",
    "    \"\"\" \n",
    "\n",
    "    return ...\n",
    "\n",
    "\n",
    "start_testing()\n",
    "\n",
    "# Examples and tests for main\n",
    "expect(..., ...)\n",
    "\n",
    "summary()\n",
    "\n",
    "start_testing()\n",
    "\n",
    "# Examples and tests for analyze \n",
    "expect(..., ...) \n",
    "\n",
    "summary()"
   ]
  }
 ],
 "metadata": {
  "kernelspec": {
   "display_name": "Python 3 (ipykernel)",
   "language": "python",
   "name": "python3"
  },
  "language_info": {
   "codemirror_mode": {
    "name": "ipython",
    "version": 3
   },
   "file_extension": ".py",
   "mimetype": "text/x-python",
   "name": "python",
   "nbconvert_exporter": "python",
   "pygments_lexer": "ipython3",
   "version": "3.8.17"
  }
 },
 "nbformat": 4,
 "nbformat_minor": 4
}
