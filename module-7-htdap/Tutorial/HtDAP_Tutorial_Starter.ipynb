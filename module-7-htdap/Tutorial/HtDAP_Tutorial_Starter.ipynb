{
 "cells": [
  {
   "cell_type": "code",
   "execution_count": null,
   "metadata": {},
   "outputs": [],
   "source": [
    "from cs103 import *"
   ]
  },
  {
   "cell_type": "markdown",
   "metadata": {},
   "source": [
    "# Tutorial Starter - Analysis Programs\n",
    "\n",
    "## Pre-Tutorial Work\n",
    "\n",
    "None this week"
   ]
  },
  {
   "cell_type": "markdown",
   "metadata": {},
   "source": [
    "## Overview\n",
    "\n",
    "In this assignment, we will use the Titanic dataset, a file containing data for 872 of the real Titanic passengers. The file is a simplified version of the one available on [Kaggle.com](https://www.kaggle.com/c/titanic/data).\n",
    "\n",
    "Start by taking a look at the file [titanic.csv](titanic.csv) in this notebook's folder to see how it is structured. Two files containing small subsets of this information have also been  provided for testing purposes:\n",
    "* [titanic-empty.csv](titanic-empty.csv) and\n",
    "* [titanic-small.csv](titanic-small.csv). \n",
    "\n",
    "(You may find that the file downloads to your computer instead of opening in the browser.  In that case, locate the downloaded `.csv` file and open it with a spreadsheet program, such as Microsoft Excel or Apple Numbers.)\n",
    "\n",
    "Now that you have looked at the complete file, we'll complete the planning steps of the HtDAP recipe. "
   ]
  },
  {
   "cell_type": "markdown",
   "metadata": {},
   "source": [
    "## Step 1: Planning\n",
    "#### Step 1a: Identify the information in the file your program will read\n",
    "The file contains information about 872 passengers of the famous RMS Titanic, the british ocean liner sank during its maiden voyage after a collision with an iceberg on April 15, 1912. For each passenger, we have information regarding whether they survived the accident, their passenger class, their name, sex, age, number of sibling/spouses aboard, number of parents/children aboard, and their ticket fare."
   ]
  },
  {
   "cell_type": "markdown",
   "metadata": {},
   "source": [
    "#### Step 1b: Write a description of what your program will produce\n",
    "\n",
    "With this information, we can answer several interesting questions.\n",
    "\n",
    "Here are some ideas of what a program operating on this information might produce:\n",
    "* We might find the average age of the survivors.\n",
    "* We might find the sex distribution by class.\n",
    "* We might find the average fare for first, second and third class.\n",
    "* We might find the total amount of survivors with siblings/spouses on board.\n",
    "* We might find the total amount of survivors with no siblings/spouses on board.\n",
    "* We might find the smallest fare paid by a first class passenger.\n",
    "\n",
    "We are going to focus on the last idea and find the smallest fare paid by a first class passenger."
   ]
  },
  {
   "cell_type": "markdown",
   "metadata": {},
   "source": [
    "#### Step 1c: Write or draw examples of what your program will produce\n",
    "Here's an  example that shows the kind of output we expect from this program:\n",
    "```python\n",
    "expect(main('titanic.csv'), 35.5)\n",
    "```\n",
    "\n",
    "The value shown here is just an example, demonstrating the expected format.  The value `35.5` was chosen arbitrarily (similarly to how you choose a value for a function stub)."
   ]
  },
  {
   "cell_type": "markdown",
   "metadata": {},
   "source": [
    "## Problem 1\n",
    "\n",
    "Now it's time to start building the program. Using the planning steps completed above, determine the information that you will need to represent in your program as data. \n",
    "\n",
    "You must clearly state which pieces of information you will choose to repesent. Despite having several columns available, you should only store the information that you'll need to solve this particular problem. **However**, we want it to be easy – **without changing the `read` function or data definitions**. This way, it will be easy to change our problem slightly and get a different answer (like the smallest fare paid by someone in the second or third class).\n",
    "\n",
    "Then complete the design of data definition(s) to represent that information. \n",
    "\n",
    "**Note:** 'class' is a protected word in Python, so you can not use it to refer to the passenger class. Use another name, like 'pclass', instead."
   ]
  },
  {
   "cell_type": "code",
   "execution_count": null,
   "metadata": {},
   "outputs": [],
   "source": [
    "# your solution goes here\n"
   ]
  },
  {
   "cell_type": "markdown",
   "metadata": {},
   "source": [
    "## Problem 2a\n",
    "\n",
    "Once you have your data definition(s) from Problem 1, design a function that reads\n",
    "the information from the file and stores it as data in your program. \n",
    "\n",
    "You should begin by copying the template from the HtDAP page, then complete the \n",
    "design of the `main` and `read` functions (but not the analysis helper function for `main`). When testing your functions, you may use the provided testing files:\n",
    "* [titanic-empty.csv](titanic-empty.csv) and\n",
    "* [titanic-small.csv](titanic-small.csv). \n",
    "\n"
   ]
  },
  {
   "cell_type": "code",
   "execution_count": null,
   "metadata": {
    "scrolled": true
   },
   "outputs": [],
   "source": [
    "import csv\n",
    "\n",
    "# your solution goes here\n",
    "\n"
   ]
  },
  {
   "cell_type": "markdown",
   "metadata": {
    "collapsed": true
   },
   "source": [
    "## Problem 2b\n",
    "\n",
    "To finish your program, complete the design of the analysis function(s). For this particular problem, find the largest amount of grant money allocated to the area Sport.\n",
    "\n",
    "Think about your data definitions and the helper rules to determine how many helper functions you will need to write when designing this function. "
   ]
  },
  {
   "cell_type": "code",
   "execution_count": null,
   "metadata": {},
   "outputs": [],
   "source": [
    "# RETURN to the cell above to complete your design of the analysis functions.\n",
    "# Do not design them here.\n",
    "\n",
    "# Call your program with the full dataset to determine the smallest fare\n",
    "# paid by a first class passenger.\n",
    "\n"
   ]
  },
  {
   "cell_type": "markdown",
   "metadata": {},
   "source": [
    "## Submit your solution"
   ]
  },
  {
   "cell_type": "code",
   "execution_count": null,
   "metadata": {},
   "outputs": [],
   "source": [
    "# NOTE: You should not be able to edit this cell. Just run it to start the process of submiting your code.\n",
    "from cs103 import submit\n",
    "\n",
    "COURSE = 130118\n",
    "ASSIGNMENT = 1740552\n",
    "\n",
    "submit(COURSE, ASSIGNMENT)\n",
    "\n",
    "# If your submission fails, SUBMIT ANYWAY by downloading your files and uploading them to \n",
    "# Canvas. You can learn how on the page \"How to submit your Jupyter notebook\" on our \n",
    "# Canvas site."
   ]
  }
 ],
 "metadata": {
  "kernelspec": {
   "display_name": "Python 3 (ipykernel)",
   "language": "python",
   "name": "python3"
  },
  "language_info": {
   "codemirror_mode": {
    "name": "ipython",
    "version": 3
   },
   "file_extension": ".py",
   "mimetype": "text/x-python",
   "name": "python",
   "nbconvert_exporter": "python",
   "pygments_lexer": "ipython3",
   "version": "3.8.17"
  }
 },
 "nbformat": 4,
 "nbformat_minor": 2
}
