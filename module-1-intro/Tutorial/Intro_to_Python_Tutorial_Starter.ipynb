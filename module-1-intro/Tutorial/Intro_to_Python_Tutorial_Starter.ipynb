{
 "cells": [
  {
   "cell_type": "markdown",
   "metadata": {},
   "source": [
    "#  Tutorial Questions - Intro to Python\n",
    "\n",
    "**Pre-Tutorial Work:**\n",
    "\n",
    "None this week.\n",
    "\n",
    "**Learning outcomes**\n",
    "\n",
    "- Write statements that operate on primitive data including numbers, strings and booleans.\n",
    "- Write variable definitions and function definitions.\n",
    "- Write out the step-by-step evaluation of simple statements including function calls.\n",
    "- Use Jupyter notebooks to run Python code.\n",
    "\n",
    "**Checkpoints:** look out for checkpoints in the exercises, they will give you hints of what will be especially important in the evaluation of the exercise."
   ]
  },
  {
   "cell_type": "markdown",
   "metadata": {},
   "source": [
    "## Problem 1\n",
    "\n",
    "1. Write a statement that finds the first character of the value stored in the variable `flower` and assigns this value to a new variable.\n",
    "2. Repeat point 1, this time finding the last character of `flower`.\n",
    "\n",
    "**Checkpoints**\n",
    "- Make sure to choose a meaningful name for your new variables. \n",
    "- Your statements should still find the first and last characters even if you change the text assigned to the variable `flower` on line 2 below! You can try this by changing the string from `orchid` to `daisy`."
   ]
  },
  {
   "cell_type": "code",
   "execution_count": null,
   "metadata": {
    "tags": []
   },
   "outputs": [],
   "source": [
    "# Given variable\n",
    "flower = \"orchid\""
   ]
  },
  {
   "cell_type": "markdown",
   "metadata": {},
   "source": [
    "## Problem 2\n",
    "\n",
    "Write a code fragment (i.e. one or more lines of code) that calculates the perimeter of a rectangle given its sides (`side1` and `side2`) and stores the result in a variable called `perimeter`. Your code fragment should still calculate the correct perimeter even if you change the values assigned to the three variables `side1` and `side2`."
   ]
  },
  {
   "cell_type": "code",
   "execution_count": null,
   "metadata": {
    "tags": []
   },
   "outputs": [],
   "source": [
    "side1 = 5\n",
    "side2 = 20"
   ]
  },
  {
   "cell_type": "markdown",
   "metadata": {},
   "source": [
    "## Problem 3\n",
    "\n",
    "Write the step-by-step evaluation of the expression `13 >=(16-2) and 2*3 < 10`. \n",
    "\n",
    "Note that you are allowed to elide steps as seen in Example 3 in\n",
    "Section 3.2.2 of the Evaluation Rules document in the Language Module on Canvas."
   ]
  },
  {
   "cell_type": "code",
   "execution_count": null,
   "metadata": {
    "tags": []
   },
   "outputs": [],
   "source": [
    "# Original expression\n",
    "20 <= (16-2) or 10 < 5*3\n"
   ]
  },
  {
   "cell_type": "markdown",
   "metadata": {},
   "source": [
    "## Problem 4\n",
    "\n",
    "We want to design a code fragment that reduces a price (in cents) by 15% if the variable `employee_discount` is `True`. If `employee_discount` is `False`, the original price should remain the same. Unfortunately, the code below contains one or more errors. Debug (fix) the code fragment until it is correct and runs without errors."
   ]
  },
  {
   "cell_type": "code",
   "execution_count": null,
   "metadata": {
    "tags": []
   },
   "outputs": [],
   "source": [
    "price = 10000\n",
    "employee_discount = True\n",
    "\n",
    "if employee_discount:\n",
    "    price * .15\n",
    "    \n",
    "price"
   ]
  },
  {
   "cell_type": "markdown",
   "metadata": {},
   "source": [
    "## Problem 5\n",
    "\n",
    "Write a function that computes the price of an item after applying the employee discount (15%), and returns this value. Solving problem 4 will help with this problem, but this is a bit different from problem 4. (For example, we are creating a function not a code fragment, and we always apply the employee discount, not depending on `employee_discount`.)\n",
    "\n",
    "**Checkpoints**\n",
    "- The function has a meaningful name, using lowercase letters and separating words with _\n",
    "- The function uses all and only the necessary inputs\n",
    "- To check that your function works, you'll want to call it with some different inputs and see what the results are!"
   ]
  },
  {
   "cell_type": "code",
   "execution_count": null,
   "metadata": {
    "tags": []
   },
   "outputs": [],
   "source": [
    "# your solution (function definition) goes here"
   ]
  },
  {
   "cell_type": "code",
   "execution_count": null,
   "metadata": {
    "tags": []
   },
   "outputs": [],
   "source": [
    "# make one call to your function here"
   ]
  },
  {
   "cell_type": "code",
   "execution_count": null,
   "metadata": {
    "tags": []
   },
   "outputs": [],
   "source": [
    "# make another call to your function here\n",
    "# do both calls work correctly when you run them?"
   ]
  },
  {
   "cell_type": "markdown",
   "metadata": {},
   "source": [
    "## Problem 6\n",
    "\n",
    "Now you want a function that will take a price and an integer number of $20 bills, applies the employee discount, and then returns the change due after paying the updated price.\n",
    "\n",
    "We've got the function started for you, but you must complete it. Your function *must* call the function you defined in problem 5. Again, to check that `compute_change` works, you'll want to call it with a few different inputs and see what the results are.\n",
    "\n",
    "By the way, there's no need to define that function from problem 5 again. As long as you've run the cell above that defines the function, you can call the function in the cell below.\n",
    "\n",
    "**Checkpoints**\n",
    "- The function has the correct name and necessary parameters\n",
    "- The function calls the function defined in problem 5\n",
    "- The function returns the correct value"
   ]
  },
  {
   "cell_type": "code",
   "execution_count": null,
   "metadata": {
    "tags": []
   },
   "outputs": [],
   "source": [
    "# your solution (the function) goes here\n",
    "def compute_change(num_20_dollar_bills, cost):\n",
    "    # Try this in three steps.\n",
    "    \n",
    "    # 1) Figure out the total cost after the discount. CALL the function you wrote above to do this.\n",
    "    #    You do NOT need to define the function again to do that. Now that you've run your\n",
    "    #    cell above, you can call that function just like you call the round function!\n",
    "    #    You'll need to start with the base cost. You HAVE that already stored in one of the\n",
    "    #    parameters. (What if someone calls this function with a different value? No problem!\n",
    "    #    The parameter always starts with the argument value the function was called with!)\n",
    "    #    Store the result in a well-named variable.\n",
    "    \n",
    "    # 2) Calculate the amount available (based on the number of $20 bills, available in one of the parameters). \n",
    "    #    Subtract from this value the total cost in the variable from step 1. \n",
    "    #    Store your result in another well-named variable.\n",
    "    \n",
    "    # 3) Return the result. The return statement on the next line is wrong. You'll want to fix it! :)\n",
    "    return 0\n",
    "\n",
    "# P.S. You could write this function all as a single return line. There's no prize for shortest\n",
    "# code, however. Write it in a way that you and others will find it easiest to read.\n"
   ]
  },
  {
   "cell_type": "code",
   "execution_count": null,
   "metadata": {
    "tags": []
   },
   "outputs": [],
   "source": [
    "# your solution (one call to the the function) goes here"
   ]
  },
  {
   "cell_type": "code",
   "execution_count": null,
   "metadata": {
    "tags": []
   },
   "outputs": [],
   "source": [
    "# your solution (a second call to the the function) goes here"
   ]
  },
  {
   "cell_type": "code",
   "execution_count": null,
   "metadata": {
    "tags": []
   },
   "outputs": [],
   "source": [
    "# your solution (a third call to the the function) goes here"
   ]
  },
  {
   "cell_type": "markdown",
   "metadata": {},
   "source": [
    "## Problem 7\n",
    "\n",
    "For this exercise, you will review a given snippet of code. The code was written with the intention of solving the following problem:\n",
    "\n",
    "\"Given two variables `animal1` and `animal2`, create a single expression to determine whether `animal1` has an equal number of characters as `animal2` and both `animal1` and `animal2` begin with the same character. The solution must solve all parts of the problem and follow the style conventions for this course.\"\n",
    "\n",
    "The proposed solution is given below:"
   ]
  },
  {
   "cell_type": "code",
   "execution_count": null,
   "metadata": {
    "deletable": false,
    "editable": false,
    "tags": []
   },
   "outputs": [],
   "source": [
    "# This cell is uneditable so you can refer \n",
    "# back to the original version of the solution.\n",
    "\n",
    "# Given variables\n",
    "animal1 = \"ants\"\n",
    "animal2 = \"apes\"\n",
    "\n",
    "if len(animal1)==len(animal2):\n",
    "True\n",
    "\n",
    "if animal1 [0]==animal2 [0]: \n",
    "True\n",
    "else:\n",
    "False"
   ]
  },
  {
   "cell_type": "markdown",
   "metadata": {},
   "source": [
    "1. Does the proposed answer run without errors? If not, what do you think the given error means?\n",
    "\n",
    "(Write your answer here)"
   ]
  },
  {
   "cell_type": "markdown",
   "metadata": {},
   "source": [
    "2. If you found an error that prevents the code from running, fix it in the cell below:"
   ]
  },
  {
   "cell_type": "code",
   "execution_count": null,
   "metadata": {},
   "outputs": [],
   "source": [
    "# Given variables\n",
    "animal1 = \"ants\"\n",
    "animal2 = \"apes\"\n",
    "\n",
    "if len(animal1)==len(animal2):\n",
    "True\n",
    "\n",
    "if animal1 [0]==animal2 [0]: \n",
    "True\n",
    "else:\n",
    "False"
   ]
  },
  {
   "cell_type": "markdown",
   "metadata": {},
   "source": [
    "3. Does the code work now? As in, does the cell ends producing the correct output? If not, what do you think the problem (or problems) is?\n",
    "\n",
    "(Your answer here)\n",
    "\n",
    "4. Do you see other stylistical issues with the code? By stylistical issues we mean issues in the way the code is written that do not prevent it from working as intended, but make it harder to read. \n",
    "\n",
    "(Your answer here)"
   ]
  },
  {
   "cell_type": "code",
   "execution_count": null,
   "metadata": {
    "editable": false,
    "tags": []
   },
   "outputs": [],
   "source": [
    "# NOTE: You should not be able to edit this cell. Just run it to start the process of submiting your code.\n",
    "from cs103 import submit\n",
    "\n",
    "COURSE = 130118\n",
    "ASSIGNMENT = 1740527\n",
    "\n",
    "submit(COURSE, ASSIGNMENT)\n",
    "\n",
    "# If your submission fails, SUBMIT ANYWAY by downloading your files and uploading them to Canvas. \n",
    "# You can learn how on the page \n",
    "# \"How to submit your Jupyter notebook\" on our Canvas site."
   ]
  }
 ],
 "metadata": {
  "kernelspec": {
   "display_name": "Python 3 (ipykernel)",
   "language": "python",
   "name": "python3"
  },
  "language_info": {
   "codemirror_mode": {
    "name": "ipython",
    "version": 3
   },
   "file_extension": ".py",
   "mimetype": "text/x-python",
   "name": "python",
   "nbconvert_exporter": "python",
   "pygments_lexer": "ipython3",
   "version": "3.8.17"
  }
 },
 "nbformat": 4,
 "nbformat_minor": 4
}
