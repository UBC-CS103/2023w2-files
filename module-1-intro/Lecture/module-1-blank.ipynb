{
 "cells": [
  {
   "cell_type": "code",
   "execution_count": null,
   "metadata": {},
   "outputs": [],
   "source": [
    "# You must run this cell once before you run any of the other cells in this file\n",
    "\n",
    "# Needed (once per notebook) to enable incredible cs103 powers!!\n",
    "from cs103 import * \n",
    "\n",
    "# This indicates we are going to use some code from the date_fact.py file\n",
    "from date_fact import *"
   ]
  },
  {
   "cell_type": "markdown",
   "metadata": {},
   "source": [
    "## Announcements\n",
    "\n",
    "Deadlines reminder:\n",
    "- Setup tutorial (1/17)\n",
    "- Upcoming syllabus quiz (1/22)\n",
    "- Module 1 worksheet and Module 2 pre-lecture quiz (1/22)"
   ]
  },
  {
   "cell_type": "markdown",
   "metadata": {},
   "source": [
    "# Module 1: Learning Goals\n",
    "\n",
    "At the end of this module, you will be able to:\n",
    "\n",
    "- Write statements that operate on primitive data including numbers, strings and booleans.\n",
    "- Write variable definitions and function definitions.\n",
    "- Write out the step-by-step evaluation of simple statements including function calls.\n",
    "- Use Jupyter notebooks to run Python code.\n"
   ]
  },
  {
   "cell_type": "markdown",
   "metadata": {},
   "source": [
    "## A little about programming\n",
    "\n",
    "A program is a sequence of instructions that allows you to perform a task. If you say the exact sequence of words, you will get the computer to do what you want. It’s a bit like magic!\n",
    "\n",
    "Here are the major pros and cons about programming:\n",
    "- PRO: The program will do exactly what you tell them to do.\n",
    "- CON: The program will do *exactly* what you tell them to do. That is, they do not \"interpret\" sentences like people do and are very finicky when it comes to grammar (syntax).\n",
    "\n",
    "Highly recommended: https://www.youtube.com/playlist?list=PLuXokptvWfg1H7-Vz8nK_LvBILHz_dG5F\n"
   ]
  },
  {
   "cell_type": "markdown",
   "metadata": {},
   "source": [
    "# What happens inside the computer?\n",
    "When our Python code runs, what does it do? Having a model of what happens so we can \"trace what the code will do\" will help us figure out what code to write to accomplish our goals and what's happening when our code goes wrong.\n",
    "\n",
    "It's much more important with these that we trace code on paper than on the computer, but we will eventually run the cell below as well. You can also try the online Python tutor: http://www.pythontutor.com/visualize.html#mode=edit"
   ]
  },
  {
   "cell_type": "code",
   "execution_count": null,
   "metadata": {},
   "outputs": [],
   "source": [
    "# Let's trace this code to understand what's happening.\n",
    "# To do that, we'll want to draw out the \"memory\" of the computer,\n",
    "# the place with all those slots that hold variables' values.\n",
    "\n",
    "a = 1\n",
    "\n",
    "b = a + 10\n",
    "\n",
    "a = a + 10\n",
    "\n",
    "a == b       # What does this evaluate to?\n",
    "\n",
    "\n",
    "b = a + b\n",
    "\n",
    "a = 100\n",
    "\n",
    "a + b        # What does this evaluate to?"
   ]
  },
  {
   "cell_type": "markdown",
   "metadata": {},
   "source": [
    "So, when we want to understand what code does, we need three things:\n",
    "\n",
    "- The code itself.\n",
    "- Which line of code we're working on now.\n",
    "- The memory of the computer (variables and their values).\n",
    "\n",
    "Let's use what we learned so far to complete Exercise 5 from the worksheet."
   ]
  },
  {
   "cell_type": "markdown",
   "metadata": {},
   "source": [
    "# Exercise 1\n",
    "- put 10 in variable *a*\n",
    "- put 66 in variable *y*\n",
    "- copy value stored in *y* in *x*\n",
    "- evaluate x > y"
   ]
  },
  {
   "cell_type": "code",
   "execution_count": null,
   "metadata": {},
   "outputs": [],
   "source": []
  },
  {
   "cell_type": "markdown",
   "metadata": {},
   "source": [
    "# Exercise 2\n",
    "- put \"y\" in variable *x*\n",
    "- test if *y* is equal to *x*\n",
    "\n",
    "Note that x exists because we ran the cell above. Check what happens if you restart the notebook and run this cell first."
   ]
  },
  {
   "cell_type": "code",
   "execution_count": null,
   "metadata": {},
   "outputs": [],
   "source": []
  },
  {
   "cell_type": "markdown",
   "metadata": {},
   "source": [
    "# Exercise 3\n",
    "- put your name in a variable *name*\n",
    "- test if *name* is greater than \"Julia\"\n",
    "\n",
    "What does it mean for a string to be greater than another?\n",
    "\n",
    "For the values associated to each character, you can look up an Ascii table like this one: https://commons.wikimedia.org/wiki/File:ASCII-Table-wide.svg"
   ]
  },
  {
   "cell_type": "code",
   "execution_count": null,
   "metadata": {},
   "outputs": [],
   "source": []
  },
  {
   "cell_type": "markdown",
   "metadata": {},
   "source": [
    "# Date Facts\n",
    "\n",
    "Let's check some fun facts that happened on a date. We will use the the API http://numbersapi.com/. Think of an API a way for us to communicate with another computer to get the information we need. \n",
    "\n",
    "The code inside the file `date_fact.py` gives us the following functions:\n",
    "\n",
    "- `get_date_fact(month: int, day: int) -> str`\n",
    "\n",
    "\n",
    "- `get_number_fact(number: int) -> str`\n",
    "\n",
    "\n",
    "- `get_year_fact(year: int) -> str`\n",
    "\n",
    "Before we dive in, though, what is a function? \n",
    "\n",
    "We'll define them many ways, and they'll be the heart of everything we do. For now, though, let's say that a function is \"something interesting the Python programming language knows how to do, which we can ask it to do by name\"."
   ]
  },
  {
   "cell_type": "code",
   "execution_count": null,
   "metadata": {
    "scrolled": true
   },
   "outputs": [],
   "source": [
    "# Get some trivia from the year you were born!\n",
    "\n",
    "# First, take a look at the names of the functions. Out of the three\n",
    "# functions listed above, which one do you think we should use?\n",
    "\n",
    "# Now, look at the signature of the function you have chosen.\n",
    "# What kind of information does it ask for (hint: what parameters are listed\n",
    "# in the signature)?\n",
    "\n",
    "# Try to call (i.e., use) the function!\n",
    "\n",
    "# Terminology check: What do you call the value you called the function with?"
   ]
  },
  {
   "cell_type": "markdown",
   "metadata": {},
   "source": [
    "# Quick Pause\n",
    "Notice how the output from the function does not include the year. \n",
    "\n",
    "The argument does not necessarily need to be included in the output of a function. We can include it if we want, but it is not mandated.\n",
    "\n",
    "Let's change the output to also include the year."
   ]
  },
  {
   "cell_type": "code",
   "execution_count": null,
   "metadata": {},
   "outputs": [],
   "source": []
  },
  {
   "cell_type": "markdown",
   "metadata": {},
   "source": [
    "# Changing Things Up\n",
    "What happens if we want to find facts from another year?\n",
    "\n",
    "Is there an easier way to change the value of the year without having to remember all the places the year appeared in?"
   ]
  },
  {
   "cell_type": "code",
   "execution_count": null,
   "metadata": {},
   "outputs": [],
   "source": []
  },
  {
   "cell_type": "markdown",
   "metadata": {},
   "source": [
    "Let's use what we have learned to complete Exercise 11 and 12 from the worksheet."
   ]
  },
  {
   "cell_type": "markdown",
   "metadata": {},
   "source": [
    "# From the quiz: sqrt\n",
    "\n",
    "Recall the quiz question 10\n",
    "```\n",
    "x = 9\n",
    "sqrt(9) # a built-in math function that returns the square root of its input\n",
    "```\n",
    "What is the value of x after the function call?"
   ]
  },
  {
   "cell_type": "code",
   "execution_count": null,
   "metadata": {},
   "outputs": [],
   "source": [
    "from math import *\n",
    "\n",
    "x = 9\n",
    "sqrt(9)"
   ]
  },
  {
   "cell_type": "markdown",
   "metadata": {},
   "source": [
    "# Writing your own functions\n",
    "\n",
    "So far, we have learned that functions are pretty great! \n",
    "- They allow us to perform an action without having to rewrite the code every time\n",
    "- We can use other people's functions without knowing how they work, just what arguments they need and what they return\n",
    "\n",
    "Naturally, you will want to be able to write your own functions."
   ]
  },
  {
   "cell_type": "markdown",
   "metadata": {},
   "source": [
    "# Checking the Sign\n",
    "\n",
    "**Problem:** Check if a number is positive or negative."
   ]
  },
  {
   "cell_type": "code",
   "execution_count": null,
   "metadata": {},
   "outputs": [],
   "source": []
  },
  {
   "cell_type": "markdown",
   "metadata": {},
   "source": [
    "Understanding how `if/else` statements work is very important to write programs that work as expected. Let's familiarize more with this syntax by completing Exercise 9 of the worksheet."
   ]
  },
  {
   "cell_type": "markdown",
   "metadata": {},
   "source": [
    "# Checking the Sign (reprise)\n",
    "\n",
    "**Problem:** Write a function to check if a number is positive or negative."
   ]
  },
  {
   "cell_type": "code",
   "execution_count": null,
   "metadata": {},
   "outputs": [],
   "source": []
  },
  {
   "cell_type": "markdown",
   "metadata": {},
   "source": [
    "Now, test it by calling it on a few numbers (or variables)."
   ]
  },
  {
   "cell_type": "code",
   "execution_count": null,
   "metadata": {},
   "outputs": [],
   "source": []
  },
  {
   "cell_type": "markdown",
   "metadata": {},
   "source": [
    "Let's take a moment to think about functions more: https://www.menti.com/rcsyu11e5q\n",
    "\n",
    "Now, you are ready to practice writing more functions: complete Exercisse 13, 14 and 15 from the worksheet."
   ]
  },
  {
   "cell_type": "markdown",
   "metadata": {},
   "source": [
    "# Repeating a String\n",
    "\n",
    "**Problem:** Repeat a given string.\n",
    "\n",
    "Let's analyse those functions. Which ones are correct?"
   ]
  },
  {
   "cell_type": "code",
   "execution_count": null,
   "metadata": {},
   "outputs": [],
   "source": [
    "# Function 1\n",
    "def RepeatIt(thing):\n",
    "    return thing+thing\n",
    "\n",
    "# Function 2\n",
    "def repeat_it(string):\n",
    "    string*2\n",
    "      \n",
    "# Function 3 \n",
    "def repeat_string_once2(string):\n",
    "    return 'string' + 'string'\n",
    "\n",
    "# Function 4 \n",
    "def repeat_string_once(string):\n",
    "    return string*2\n",
    "\n",
    "# Function 5 \n",
    "def repeat(s):\n",
    "    new_s = s + s\n",
    "    return new_s"
   ]
  },
  {
   "cell_type": "code",
   "execution_count": null,
   "metadata": {},
   "outputs": [],
   "source": [
    "# Let's try CALLING those functions!\n",
    "\n",
    "repeat('Hello') + ' ' + repeat('World') + repeat('!')\n"
   ]
  }
 ],
 "metadata": {
  "kernelspec": {
   "display_name": "Python 3 (ipykernel)",
   "language": "python",
   "name": "python3"
  },
  "language_info": {
   "codemirror_mode": {
    "name": "ipython",
    "version": 3
   },
   "file_extension": ".py",
   "mimetype": "text/x-python",
   "name": "python",
   "nbconvert_exporter": "python",
   "pygments_lexer": "ipython3",
   "version": "3.8.17"
  }
 },
 "nbformat": 4,
 "nbformat_minor": 4
}
