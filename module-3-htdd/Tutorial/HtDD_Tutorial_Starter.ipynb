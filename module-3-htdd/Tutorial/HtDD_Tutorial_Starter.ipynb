{
 "cells": [
  {
   "cell_type": "code",
   "execution_count": null,
   "metadata": {
    "tags": []
   },
   "outputs": [],
   "source": [
    "from cs103 import *\n",
    "# add any needed imports here\n",
    "from enum import Enum"
   ]
  },
  {
   "cell_type": "markdown",
   "metadata": {},
   "source": [
    "## Tutorial Solution - HtDD"
   ]
  },
  {
   "cell_type": "markdown",
   "metadata": {},
   "source": [
    "### Problem 1a:\n",
    "\n",
    "Design a data definition to represent the days of the week, starting from Monday.  Be sure to follow all steps of the HtDD recipe.\n",
    "\n",
    "**Checkpoints**\n",
    "- Did you follow all the steps of the recipe?\n",
    "- Are all your comments meaningful and updated to this data definition?\n",
    "- Did you follow the style of the course (e.g. capitalization rules)?"
   ]
  },
  {
   "cell_type": "code",
   "execution_count": null,
   "metadata": {
    "tags": []
   },
   "outputs": [],
   "source": [
    "# your solution goes here"
   ]
  },
  {
   "cell_type": "markdown",
   "metadata": {},
   "source": [
    "### Problem 1b:\n",
    "\n",
    "Now that you have a Data Definition for the days of the week, let's create a function that tells us if it is a business day or not. For the purpose of this exercise, Monday through Friday are business days, while Saturday and Sunday are not. \n",
    "\n",
    "Be sure to follow all steps of the HtDF recipe.\n",
    "\n",
    "**Checkpoints**\n",
    "- Did you follow all the steps of the recipe?\n",
    "- Did you include all necessary comments?\n",
    "- Does your function have a meaningful name?\n",
    "- Did you provide enough tests to make sure that the function works properly?"
   ]
  },
  {
   "cell_type": "code",
   "execution_count": null,
   "metadata": {
    "tags": []
   },
   "outputs": [],
   "source": [
    "# your solution goes here"
   ]
  },
  {
   "cell_type": "markdown",
   "metadata": {},
   "source": [
    "### Problem 2a:\n",
    "\n",
    "Now, you will work on designing a data definition to represent the percentage grade assigned at the end of a course. Note that a student may not take a course, or still being working on it, in which case they will not have a percentage grade assigned. The grade should be between 0 and 100.\n",
    "\n",
    "First, let's review some possible solutions:"
   ]
  },
  {
   "cell_type": "code",
   "execution_count": null,
   "metadata": {
    "deletable": false,
    "editable": false,
    "tags": []
   },
   "outputs": [],
   "source": [
    "# This cell is uneditable to prevent accidental changes\n",
    "PercentageGrade = int  # in range [0, 100]\n",
    "# interp. the percentage grade assigned at the end of a course \n",
    "\n",
    "PG1 = 0\n",
    "PG2 = 60\n",
    "PG3 = 100\n",
    "\n",
    "@typecheck\n",
    "def fn_for_percentage_grade(pg: PercentageGrade) -> ...:\n",
    "    return ...(pg) # template based on Atomic Non-Distinct"
   ]
  },
  {
   "cell_type": "markdown",
   "metadata": {},
   "source": [
    "Do you think this is a good data definition for the information we are trying to represent? Why or why not?\n",
    "\n",
    "*Your answer here*"
   ]
  },
  {
   "cell_type": "markdown",
   "metadata": {},
   "source": [
    "Let's review another possible solution:"
   ]
  },
  {
   "cell_type": "code",
   "execution_count": null,
   "metadata": {
    "deletable": false,
    "editable": false,
    "tags": []
   },
   "outputs": [],
   "source": [
    "# This cell is uneditable to prevent accidental changes\n",
    "from typing import Optional\n",
    "\n",
    "PercentageGrade = Optional[int]  \n",
    "# interp. the percentage grade assigned at the end of a course .\n",
    "# A value of None indicates that the student does not have a grade assigned\n",
    "# for this course.\n",
    "\n",
    "# template based on optional\n",
    "@typecheck\n",
    "def fn_for_grade(pg: PercentageGrade) -> ...:\n",
    "    if pg is None:\n",
    "        return ...\n",
    "    else:\n",
    "        return ...(pg)"
   ]
  },
  {
   "cell_type": "markdown",
   "metadata": {},
   "source": [
    "This solution is better, but it has some imprecisions and does not always follow the HtDD recipy/style guidelines. Fix it in the cell below:"
   ]
  },
  {
   "cell_type": "code",
   "execution_count": null,
   "metadata": {
    "tags": []
   },
   "outputs": [],
   "source": [
    "# Fix the solution here\n",
    "\n",
    "from typing import Optional\n",
    "\n",
    "PercentageGrade = Optional[int]  \n",
    "# interp. the percentage grade assigned at the end of a course .\n",
    "# A value of None indicates that the student does not have a grade assigned\n",
    "# for this course.\n",
    "\n",
    "# template based on optional\n",
    "@typecheck\n",
    "def fn_for_grade(pg: PercentageGrade) -> ...:\n",
    "    if pg is None:\n",
    "        return ...\n",
    "    else:\n",
    "        return ...(pg)"
   ]
  },
  {
   "cell_type": "markdown",
   "metadata": {},
   "source": [
    "### Problem 2b:\n",
    "Now that we have a good Data Definition for a percentage grade, let's design a function that takes a percentage grade (from Problem 2a) and returns True if the grade corresponds to an A+ letter grade (which means the percentage grade is 90 or above), and False if the grade is less than A+ or unknown.\n",
    "\n",
    "Be sure to follow all steps of the HtDF recipe.\n",
    "\n",
    "**Checkpoints**\n",
    "- Did you follow all the steps of the recipe?\n",
    "- Did you include all necessary comments?\n",
    "- Does your function have a meaningful name?\n",
    "- Did you provide enough tests to make sure that the function works properly?"
   ]
  },
  {
   "cell_type": "code",
   "execution_count": null,
   "metadata": {
    "tags": []
   },
   "outputs": [],
   "source": [
    "# your solution goes here\n"
   ]
  },
  {
   "cell_type": "markdown",
   "metadata": {},
   "source": [
    "## Submit your solution"
   ]
  },
  {
   "cell_type": "code",
   "execution_count": null,
   "metadata": {
    "editable": false,
    "tags": []
   },
   "outputs": [],
   "source": [
    "# NOTE: You should not be able to edit this cell. Just run it to start the process of submiting your code.\n",
    "from cs103 import submit\n",
    "\n",
    "COURSE = 130118\n",
    "ASSIGNMENT = 1740535\n",
    "\n",
    "submit(COURSE, ASSIGNMENT)\n",
    "\n",
    "# If your submission fails, SUBMIT ANYWAY by downloading your files and uploading them to Canvas. \n",
    "# You can learn how on the page \n",
    "# \"How to submit your Jupyter notebook\" on our Canvas site."
   ]
  }
 ],
 "metadata": {
  "kernelspec": {
   "display_name": "Python 3 (ipykernel)",
   "language": "python",
   "name": "python3"
  },
  "language_info": {
   "codemirror_mode": {
    "name": "ipython",
    "version": 3
   },
   "file_extension": ".py",
   "mimetype": "text/x-python",
   "name": "python",
   "nbconvert_exporter": "python",
   "pygments_lexer": "ipython3",
   "version": "3.8.17"
  }
 },
 "nbformat": 4,
 "nbformat_minor": 4
}
