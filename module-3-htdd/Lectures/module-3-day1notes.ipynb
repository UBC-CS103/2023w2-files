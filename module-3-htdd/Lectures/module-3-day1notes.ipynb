{
 "cells": [
  {
   "cell_type": "code",
   "execution_count": 1,
   "metadata": {},
   "outputs": [],
   "source": [
    "from cs103 import *"
   ]
  },
  {
   "cell_type": "markdown",
   "metadata": {},
   "source": [
    "Picking the right data type requires practice. Let's see how you do with these:\n",
    "- The colors of the rainbow\n",
    "- The colors of a sweater\n",
    "- Names for pet cats\n",
    "- Names of players in a soccer team\n",
    "- Red cell count in a patient\n",
    "\n",
    "Vote here (we'll do it one by one): https://www.menti.com/8t7gcosgm7"
   ]
  },
  {
   "cell_type": "code",
   "execution_count": 2,
   "metadata": {},
   "outputs": [],
   "source": [
    "Temperature = float \n",
    "# interp. the air temperature in degrees Celsius\n",
    "\n",
    "T1 = 0.0 \n",
    "T2 = -24.5 \n",
    " \n",
    "@typecheck \n",
    "# template based on Atomic Non-Distinct \n",
    "def fn_for_temperature(t: Temperature) -> ...: \n",
    "\treturn ...(t) \n"
   ]
  },
  {
   "cell_type": "code",
   "execution_count": 3,
   "metadata": {},
   "outputs": [
    {
     "name": "stdout",
     "output_type": "stream",
     "text": [
      "\u001b[92m7 of 7 tests passed\u001b[0m\n"
     ]
    }
   ],
   "source": [
    "@typecheck\n",
    "def state_of_water(t: Temperature) -> str:\n",
    "    \"\"\"\n",
    "    Returns the state of the water based on the temperature t, that is \"Gas\" if t > 100,\n",
    "    \"Liquid\" if 0 <= t <= 100, and \"Solid\" if t < 0.\n",
    "    \"\"\"\n",
    "    # return \"Test\"   # stub\n",
    "    # Template from Temperature\n",
    "    if t > 100:\n",
    "        return \"Gas\"\n",
    "    if t < 0:\n",
    "        return \"Solid\"\n",
    "    return \"Liquid\"\n",
    "\n",
    "start_testing()\n",
    "\n",
    "expect(state_of_water(50), \"Liquid\")\n",
    "expect(state_of_water(100), \"Liquid\")\n",
    "expect(state_of_water(100.0001), \"Gas\")\n",
    "expect(state_of_water(-35), \"Solid\")\n",
    "expect(state_of_water(0), \"Liquid\")\n",
    "expect(state_of_water(-0.0001), \"Solid\")\n",
    "expect(state_of_water(-199.43), \"Solid\")\n",
    "\n",
    "# When working with thresholds, it is important to test values at the boundary,\n",
    "# because that is where it would be easier to introduce a mistake.\n",
    "# For integers, this is straightforward, for floats you should test at the desired\n",
    "# level of precision.\n",
    "\n",
    "summary()\n"
   ]
  },
  {
   "cell_type": "code",
   "execution_count": 19,
   "metadata": {},
   "outputs": [
    {
     "data": {
      "text/plain": [
       "'Liquid'"
      ]
     },
     "execution_count": 19,
     "metadata": {},
     "output_type": "execute_result"
    }
   ],
   "source": [
    "state_of_water(80.78)"
   ]
  },
  {
   "cell_type": "code",
   "execution_count": 10,
   "metadata": {},
   "outputs": [
    {
     "name": "stdout",
     "output_type": "stream",
     "text": [
      "\u001b[92m7 of 7 tests passed\u001b[0m\n"
     ]
    }
   ],
   "source": [
    "# If you want, you can design a different solution of state_of_water,\n",
    "# with more visible if/else branches.\n",
    "\n",
    "@typecheck\n",
    "def state_of_water(t: Temperature) -> str:\n",
    "    \"\"\"\n",
    "    Returns the state of the water based on the temperature t, that is \"Gas\" if t > 100,\n",
    "    \"Liquid\" if 0 <= t <= 100, and \"Solid\" if t < 0.\n",
    "    \"\"\"\n",
    "    # return \"Test\"   # stub\n",
    "    # Template from Temperature\n",
    "    if t > 100:\n",
    "        return \"Gas\"\n",
    "    elif t < 0:\n",
    "        return \"Solid\"\n",
    "    else:\n",
    "        return \"Liquid\"\n",
    "\n",
    "start_testing()\n",
    "\n",
    "expect(state_of_water(50), \"Liquid\")\n",
    "expect(state_of_water(100), \"Liquid\")\n",
    "expect(state_of_water(100.0001), \"Gas\")\n",
    "expect(state_of_water(-35), \"Solid\")\n",
    "expect(state_of_water(0), \"Liquid\")\n",
    "expect(state_of_water(-0.0001), \"Solid\")\n",
    "expect(state_of_water(-199.43), \"Solid\")\n",
    "\n",
    "summary()"
   ]
  },
  {
   "cell_type": "markdown",
   "metadata": {},
   "source": [
    "## Data type for bank account balance\n",
    "\n",
    "In the cell below, we have started designing a data definition for a bank account balance. Complete the definition by adding the correct template."
   ]
  },
  {
   "cell_type": "code",
   "execution_count": 5,
   "metadata": {},
   "outputs": [],
   "source": [
    "AccountValue = float\n",
    "# interpr. the value held by a bank account\n",
    "\n",
    "AV0 = 0\n",
    "AV_POS = 1500.55\n",
    "AV_NEG = -300.10\n",
    "\n",
    "@typecheck \n",
    "# Template based on Atomic Non-Distinct\n",
    "def fn_for_account_value(av: AccountValue) -> ...: \n",
    "    return ...(av)\n"
   ]
  },
  {
   "cell_type": "markdown",
   "metadata": {},
   "source": [
    "Now, let's design a function that returns True if the account value is negative. We can call it `is_overdrawn`."
   ]
  },
  {
   "cell_type": "code",
   "execution_count": 7,
   "metadata": {},
   "outputs": [
    {
     "name": "stdout",
     "output_type": "stream",
     "text": [
      "\u001b[92m3 of 3 tests passed\u001b[0m\n"
     ]
    }
   ],
   "source": [
    "# Design is_overdrawn here, using the template from AccountValue\n",
    "@typecheck\n",
    "def is_overdrawn(av: AccountValue) -> bool: \n",
    "    \"\"\"\n",
    "    Returns True if the AccountValue is negative, False otherwise\n",
    "    \"\"\"\n",
    "    # return True  # stub\n",
    "    # Template from AccountValue\n",
    "    return av < 0\n",
    "\n",
    "start_testing()\n",
    "\n",
    "# Here is another example of testing a theshold.\n",
    "# AV0 is an example from the data definition - they can be used for testing\n",
    "expect(is_overdrawn(AV0), False)\n",
    "expect(is_overdrawn(-0.01), True)\n",
    "expect(is_overdrawn(0.01), False)\n",
    "\n",
    "summary()"
   ]
  },
  {
   "cell_type": "markdown",
   "metadata": {},
   "source": [
    "As always, once we have a function, we can use it! Write a function call to `is_overdrawn` here:"
   ]
  },
  {
   "cell_type": "code",
   "execution_count": 8,
   "metadata": {},
   "outputs": [
    {
     "data": {
      "text/plain": [
       "True"
      ]
     },
     "execution_count": 8,
     "metadata": {},
     "output_type": "execute_result"
    }
   ],
   "source": [
    "# Call is_overdrawn\n",
    "is_overdrawn(-350.50)"
   ]
  },
  {
   "cell_type": "markdown",
   "metadata": {},
   "source": [
    "## \"Standing\" Problem\n",
    "\n",
    "Design a function that takes a standing (SD for \"standing deferred\",\n",
    "AUD for \"audit\", and W for \"withdraw\") and determines whether the\n",
    "student is still working on the course where they earned that\n",
    "standing.\n",
    "\n",
    "**To do this**, we'll need a data definition for a standing."
   ]
  },
  {
   "cell_type": "code",
   "execution_count": null,
   "metadata": {},
   "outputs": [],
   "source": [
    "from enum import Enum\n",
    "\n",
    "Standing = Enum('Standing', ['SD', 'AUD', 'W'])\n",
    "# interp. Student standing, one of Standing Deferred (SD), audit (AUD),\n",
    "# or withdraw (W)\n",
    "\n",
    "# examples are redundant for enumeration\n",
    "\n",
    "@typecheck\n",
    "# Template based on Enumeration (3 cases)\n",
    "def fn_for_standing(s: Standing) -> ...:\n",
    "    if s == Standing.SD:\n",
    "        return ...\n",
    "    elif s == Standing.AUD:\n",
    "        return ...\n",
    "    elif s == Standing.W:\n",
    "        return ..."
   ]
  },
  {
   "cell_type": "markdown",
   "metadata": {},
   "source": [
    "Now we can design the function that takes a standing and \"determines whether the\n",
    "student is still working on the course where they earned that\n",
    "standing.\""
   ]
  },
  {
   "cell_type": "code",
   "execution_count": null,
   "metadata": {},
   "outputs": [],
   "source": [
    "@typecheck\n",
    "def still_working(s: Standing) -> ...:\n",
    "    \"\"\"\n",
    "    TODO!\n",
    "    \"\"\"\n",
    "    return 0  # INCORRECT stub\n",
    "\n",
    "start_testing()\n",
    "#expect(still_working(TODO), TODO)\n",
    "summary()"
   ]
  },
  {
   "cell_type": "markdown",
   "metadata": {},
   "source": [
    "A single data definition usually gets used for many different functions in your program, but we often only have time for one in class, tutorial, and assignments. Let's do a second design here!\n",
    "\n",
    "**Problem:** Design a function that takes a standing (as above) and returns an English explanation of what the standing means.\n",
    "\n",
    "We already have the data definition, which guides our function design. Indeed, the designed function is very similar to the previous one. Finding where it's *different* may tell you a lot about why examples and templates are useful!"
   ]
  },
  {
   "cell_type": "code",
   "execution_count": null,
   "metadata": {},
   "outputs": [],
   "source": [
    "@typecheck\n",
    "def describe_standing(s: Standing) -> ...:\n",
    "    \"\"\"\n",
    "    returns an English description of s\n",
    "    \"\"\"\n",
    "    return 0  # INCORRECT stub\n",
    "\n",
    "start_testing()\n",
    "# We've gone ahead and filled in the test cases already to help move us along a bit!\n",
    "# The HtDD recipe tells us we should have one test for every value in the Standing enumeration!\n",
    "expect(describe_standing(Standing.SD), \"Standing Deferred: awaiting completion of some additional requirement\")\n",
    "expect(describe_standing(Standing.AUD), \"Auditing: sat in on the course for credit, but not for a grade\")\n",
    "expect(describe_standing(Standing.W), \"Withdrawn: Withdrew from the course after the add/drop deadline\")\n",
    "summary()"
   ]
  },
  {
   "cell_type": "markdown",
   "metadata": {},
   "source": [
    "Well done! Now, write a call to `describe_standing`:"
   ]
  },
  {
   "cell_type": "code",
   "execution_count": null,
   "metadata": {},
   "outputs": [],
   "source": [
    "# Call describe_standing"
   ]
  },
  {
   "cell_type": "markdown",
   "metadata": {
    "tags": []
   },
   "source": [
    "## Runner Position\n",
    "\n",
    "This exercise is from Worksheet 3 (problem 10) - you may complete it on the worksheet, if you prefer."
   ]
  },
  {
   "cell_type": "markdown",
   "metadata": {
    "tags": []
   },
   "source": [
    "Suppose you want to write a data definition to represent a runner’s position in a race of 500. The runner can be ranked from 1st to 500th place, or “Did Not Finish”.\n",
    "\n",
    "**a.** Which of the following is the best type comment and/or enumeration definition?\n",
    "```python\n",
    "i.   Position = float\n",
    "\n",
    "ii.  from enum import Enum\n",
    "     Position = Enum('Position', ['DNF', 1-500])\n",
    "    \n",
    "iii. Position = Optional[int] # in range[1, 500]\n",
    "\n",
    "iv.  Position = Optional[float] # in range[1.0-500.0]\n",
    "```\n",
    "\n",
    "\n",
    "The best type comment and/or enumeration definition is:"
   ]
  },
  {
   "cell_type": "code",
   "execution_count": null,
   "metadata": {},
   "outputs": [],
   "source": [
    "# This cell can be run \n",
    "# your solution goes here"
   ]
  },
  {
   "cell_type": "markdown",
   "metadata": {
    "editable": false
   },
   "source": [
    "**b.** Write a clear and concise interpretation for **Position**:"
   ]
  },
  {
   "cell_type": "code",
   "execution_count": null,
   "metadata": {},
   "outputs": [],
   "source": [
    "#interpretation.   *your solution goes here*"
   ]
  },
  {
   "cell_type": "markdown",
   "metadata": {
    "editable": false
   },
   "source": [
    "**c.** Select a complete set of examples for **Position** from the options below. Provide a justification for each example that you chose.\n",
    "\n",
    "    # Examples are redundant\n",
    "    P1 = 0\n",
    "    P2 = 1\n",
    "    P3 = 250\n",
    "    P4 = 499\n",
    "    P5 = 500\n",
    "    P6 = 501\n",
    "    P7 = None\n",
    "    P8 = 'DNF'"
   ]
  },
  {
   "cell_type": "markdown",
   "metadata": {},
   "source": [
    "*Your solution goes here*\n",
    "\n",
    "Justification: "
   ]
  },
  {
   "cell_type": "markdown",
   "metadata": {
    "editable": false
   },
   "source": [
    "**d.** Write the template function for **Position**."
   ]
  },
  {
   "cell_type": "code",
   "execution_count": null,
   "metadata": {},
   "outputs": [],
   "source": [
    "# This cell can be run \n",
    "# your solution goes here"
   ]
  },
  {
   "cell_type": "code",
   "execution_count": null,
   "metadata": {},
   "outputs": [],
   "source": [
    "# Now that we have all the pieces, let's join them together in a single cell\n",
    "\n",
    "\n"
   ]
  },
  {
   "cell_type": "markdown",
   "metadata": {},
   "source": [
    "Now that we have a data definition for Position, we may use it to write functions and solve problems. Let's write a function to answer the following question: did the runner end up on the podium?"
   ]
  },
  {
   "cell_type": "code",
   "execution_count": null,
   "metadata": {},
   "outputs": [],
   "source": [
    "@typecheck\n",
    "def on_podium(p: Position) -> bool:\n",
    "    \"\"\"\n",
    "    Given a Position p, returns True if a runner has finished the race \n",
    "    on the podium (places 1 to 3), and False if he placed lower or did \n",
    "    not finish the race\n",
    "    \"\"\"\n",
    "    return True #stub\n",
    "\n",
    "start_testing()\n",
    "#expect(on_podium(TODO), TODO)\n",
    "summary()"
   ]
  },
  {
   "cell_type": "markdown",
   "metadata": {},
   "source": [
    "Let's end with one more call to `on_podium`:"
   ]
  },
  {
   "cell_type": "code",
   "execution_count": 1,
   "metadata": {},
   "outputs": [],
   "source": [
    "# Call on_podium"
   ]
  }
 ],
 "metadata": {
  "kernelspec": {
   "display_name": "Python 3 (ipykernel)",
   "language": "python",
   "name": "python3"
  },
  "language_info": {
   "codemirror_mode": {
    "name": "ipython",
    "version": 3
   },
   "file_extension": ".py",
   "mimetype": "text/x-python",
   "name": "python",
   "nbconvert_exporter": "python",
   "pygments_lexer": "ipython3",
   "version": "3.11.6"
  }
 },
 "nbformat": 4,
 "nbformat_minor": 4
}
