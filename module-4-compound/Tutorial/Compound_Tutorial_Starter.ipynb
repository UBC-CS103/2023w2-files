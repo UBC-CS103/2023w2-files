{
 "cells": [
  {
   "cell_type": "code",
   "execution_count": null,
   "metadata": {},
   "outputs": [],
   "source": [
    "from cs103 import *"
   ]
  },
  {
   "cell_type": "markdown",
   "metadata": {
    "tags": []
   },
   "source": [
    "# Compound Tutorial Solution\n",
    "\n",
    "### Pre-Tutorial Work:\n",
    "\n",
    "In this tutorial, we will create a data type to store information included in the [Kaggle dataset on U.S. Airline Traffic Data (2003-2023)](https://www.kaggle.com/datasets/yyxian/u-s-airline-traffic-data). Note: the link is given to you for reference, but the tutorial contains enough information to complete the exercise. The original dataset and some values have been modified to adapt it to the exercise.\n",
    "\n",
    "Read the sample information below and start to think about how to best represent one of the rows as data (i.e. how to best represent the information for a *single year*).\n",
    "\n",
    "|Year|Month|Domestic Air Travel Passengers|International Air Travel Passengers|Number of Flights (Domestic)|Number of Flights (International)|Revenue Domestic (in 1B dollars)|Revenue International (in 1B dollars)|\n",
    "|---|---|---|---|---|---|---|---|\n",
    "|2003|\t1|\t43,032,450|\t4,905,830\t|785,160\t|\t57,667|\t36.21|\t12.89|\n",
    "|2003|\t2|\t41,166,780|\t4,245,366|690,351\t|\t51,259|\t34.15|\t10.71|\n",
    "|2003|\t3|\t49,992,700|\t5,008,613\t|797,194\t|\t58,926|\t41.77|\t12.57|\n",
    "|2004|\t12|\t52,639,838|\t6,041,853\t|836,232\t|\t63,469|\t45.18|\t15.52|\n",
    "\n",
    "<sup>*</sup> Accessed 2024-01-27"
   ]
  },
  {
   "cell_type": "markdown",
   "metadata": {},
   "source": [
    "### Problem 1: \n",
    "\n",
    "Design a data definition called AirTraffic to represent the information from one row (i.e., one year) shown above. \n",
    "\n",
    "Be sure to follow all steps of the HtDD recipe."
   ]
  },
  {
   "cell_type": "code",
   "execution_count": null,
   "metadata": {},
   "outputs": [],
   "source": [
    "# your solution goes here\n"
   ]
  },
  {
   "cell_type": "markdown",
   "metadata": {},
   "source": [
    "### Problem 2:\n",
    "\n",
    "Given an AirTraffic variable, you want to determine the total (international + domestic) average ticket price. You can assume that all revenues come from sold tickets, and each passenger counts as one ticket sold. Design a function that takes a AirTraffic variable and returns this value in dollars, rounded to two decimal points. \n",
    "\n",
    "**Checkpoints**\n",
    "- Be sure to follow all steps of the HtDF recipe.  \n",
    "- Watch the units! The result should be in dollars, but revenue is in billions of dollars"
   ]
  },
  {
   "cell_type": "code",
   "execution_count": null,
   "metadata": {},
   "outputs": [],
   "source": [
    "# your solution goes here\n"
   ]
  },
  {
   "cell_type": "markdown",
   "metadata": {},
   "source": [
    "### Problem 3:\n",
    "    \n",
    "Design a function that takes two AirTraffic variables and returns True if the first argument has a larger total number of flights than the first. Note that when a function takes in two compound parameters, the template should include all fields from both parameters.\n",
    " \n",
    "**Checkpoints**\n",
    "- Be sure to follow all steps of the HtDF recipe.\n",
    "- This function will look at the combination of flights from each AirTraffic variables to determine the result. When designing the tests, make sure to test different combinations of values for domestic and international flights. You may need to create new AirTraffic examples for this"
   ]
  },
  {
   "cell_type": "code",
   "execution_count": null,
   "metadata": {},
   "outputs": [],
   "source": [
    "# your solution goes here\n",
    " "
   ]
  },
  {
   "cell_type": "markdown",
   "metadata": {},
   "source": [
    "## Submit your solution"
   ]
  },
  {
   "cell_type": "code",
   "execution_count": null,
   "metadata": {},
   "outputs": [],
   "source": [
    "# NOTE: You should not be able to edit this cell. Just run it to start the process of submiting your code.\n",
    "from cs103 import submit\n",
    "\n",
    "COURSE = 130118\n",
    "ASSIGNMENT = 1740539\n",
    "\n",
    "submit(COURSE, ASSIGNMENT)\n",
    "\n",
    "# If your submission fails, SUBMIT ANYWAY by downloading your files and uploading them to Canvas. \n",
    "# You can learn how on the page \n",
    "# \"How to submit your Jupyter notebook\" on our Canvas site."
   ]
  }
 ],
 "metadata": {
  "kernelspec": {
   "display_name": "Python 3 (ipykernel)",
   "language": "python",
   "name": "python3"
  },
  "language_info": {
   "codemirror_mode": {
    "name": "ipython",
    "version": 3
   },
   "file_extension": ".py",
   "mimetype": "text/x-python",
   "name": "python",
   "nbconvert_exporter": "python",
   "pygments_lexer": "ipython3",
   "version": "3.8.17"
  }
 },
 "nbformat": 4,
 "nbformat_minor": 4
}
